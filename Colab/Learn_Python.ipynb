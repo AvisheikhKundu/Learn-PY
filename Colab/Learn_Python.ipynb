{
  "nbformat": 4,
  "nbformat_minor": 0,
  "metadata": {
    "colab": {
      "provenance": [],
      "collapsed_sections": [
        "sqg8v4VCK3Gi",
        "zO3blRd236ur",
        "jL2I2bHBRoe4",
        "5A2wAeWw24Sy",
        "0Sw5JLQanuFe",
        "QaHSwKgJeDEU"
      ]
    },
    "kernelspec": {
      "name": "python3",
      "display_name": "Python 3"
    },
    "language_info": {
      "name": "python"
    }
  },
  "cells": [
    {
      "cell_type": "markdown",
      "source": [
        "#Learn Python\n",
        "###This Colab owner is Avisheikh Kundu\n",
        "Follow for more on Linkedin : [Avisheikh Kundu](https://www.linkedin.com/in/avisheikhkundu/)   & Github : [Avisheikh Kundu](https://github.com/AvisheikhKundu)"
      ],
      "metadata": {
        "id": "sqg8v4VCK3Gi"
      }
    },
    {
      "cell_type": "code",
      "execution_count": null,
      "metadata": {
        "colab": {
          "base_uri": "https://localhost:8080/"
        },
        "id": "UaYqoHkVNbTR",
        "outputId": "b4a284ec-6637-4aa4-8445-8ccf8317585c"
      },
      "outputs": [
        {
          "output_type": "stream",
          "name": "stdout",
          "text": [
            "(\"Start my mission\")\n"
          ]
        }
      ],
      "source": [
        "print(\"\"\"(\"Start my mission\")\"\"\")"
      ]
    },
    {
      "cell_type": "markdown",
      "source": [
        "#Chapter-01"
      ],
      "metadata": {
        "id": "zO3blRd236ur"
      }
    },
    {
      "cell_type": "code",
      "source": [
        "\n",
        "print(2+3)"
      ],
      "metadata": {
        "colab": {
          "base_uri": "https://localhost:8080/"
        },
        "id": "PozWj2dVJcz9",
        "outputId": "dc346605-2c88-4adb-cae4-36a2cd4441f0"
      },
      "execution_count": null,
      "outputs": [
        {
          "output_type": "stream",
          "name": "stdout",
          "text": [
            "5\n"
          ]
        }
      ]
    },
    {
      "cell_type": "markdown",
      "source": [
        "**Python Indentation**\n",
        "\n",
        "\n",
        "\n",
        "Indentation refers to the spaces at the beginning of a code line.\n",
        "\n",
        "Where in other programming languages the indentation in code is for readability only, the indentation in Python is very important.\n",
        "Python uses indentation to indicate a block of code."
      ],
      "metadata": {
        "id": "Lr8My5nv4ZF9"
      }
    },
    {
      "cell_type": "code",
      "source": [
        "if 5 > 2:\n",
        "  print(\"Five is greater than two!\")"
      ],
      "metadata": {
        "colab": {
          "base_uri": "https://localhost:8080/"
        },
        "id": "yh5fuIQf41ZK",
        "outputId": "7be99e70-788b-43c2-c82b-6f28bcfb5902"
      },
      "execution_count": null,
      "outputs": [
        {
          "output_type": "stream",
          "name": "stdout",
          "text": [
            "Five is greater than two!\n"
          ]
        }
      ]
    },
    {
      "cell_type": "code",
      "source": [
        "#The number of spaces is up to you as a programmer, the most common use is four, but it has to be at least one.\n",
        "\n",
        "if 5 > 2:\n",
        " print(\"Five is greater than two!\")\n",
        "if 5 > 2:\n",
        "        print(\"Five is greater than two!\")"
      ],
      "metadata": {
        "colab": {
          "base_uri": "https://localhost:8080/"
        },
        "id": "IUyqWP8248uP",
        "outputId": "0c52d39b-c47d-4927-a2cb-d3177e2102e0"
      },
      "execution_count": null,
      "outputs": [
        {
          "output_type": "stream",
          "name": "stdout",
          "text": [
            "Five is greater than two!\n",
            "Five is greater than two!\n"
          ]
        }
      ]
    },
    {
      "cell_type": "markdown",
      "source": [
        "#Chapter-02\n",
        " **Comments**\n",
        "\n",
        "\n",
        "\n",
        "*   Single line Comments,\n",
        "*   Multiline Comments,\n",
        "*   String Literals,\n",
        "\n",
        "    2 types:\n",
        "   1.  Single-line comments\n",
        "   2.  Multiline comments\n",
        "\n",
        "*   Docstring Comments"
      ],
      "metadata": {
        "id": "jL2I2bHBRoe4"
      }
    },
    {
      "cell_type": "code",
      "source": [
        "#Single line Comments\n",
        "# Print “GeeksforGeeks !” to console\n",
        "print(\"GeeksforGeeks\")\n"
      ],
      "metadata": {
        "colab": {
          "base_uri": "https://localhost:8080/"
        },
        "id": "CP6E1WJ8TGzg",
        "outputId": "031d25ce-dd5b-4329-e97c-81eccf99f194"
      },
      "execution_count": null,
      "outputs": [
        {
          "output_type": "stream",
          "name": "stdout",
          "text": [
            "GeeksforGeeks\n"
          ]
        }
      ]
    },
    {
      "cell_type": "code",
      "source": [
        "# Python program to demonstrate\n",
        "# multiline comments\n",
        "print(\"Multiline comments\")\n"
      ],
      "metadata": {
        "colab": {
          "base_uri": "https://localhost:8080/"
        },
        "id": "5x9NW1WKTP-D",
        "outputId": "463349eb-5d2a-4469-a142-8a4cdd29861c"
      },
      "execution_count": null,
      "outputs": [
        {
          "output_type": "stream",
          "name": "stdout",
          "text": [
            "Multiline comments\n"
          ]
        }
      ]
    },
    {
      "cell_type": "code",
      "source": [
        "\"\"\" Python program to demonstrate\n",
        "multiline comments\"\"\"\n",
        "print(\"Multiline comments\")\n"
      ],
      "metadata": {
        "colab": {
          "base_uri": "https://localhost:8080/"
        },
        "id": "9SGYtMjDVZ0N",
        "outputId": "d0ec626a-72c8-4822-a754-192f3b31b0dd"
      },
      "execution_count": null,
      "outputs": [
        {
          "output_type": "stream",
          "name": "stdout",
          "text": [
            "Multiline comments\n"
          ]
        }
      ]
    },
    {
      "cell_type": "code",
      "source": [
        "#Docstring comments\n",
        "def multiply(a, b):\n",
        "\t\"\"\"Multiplies the value of a and b\"\"\"\n",
        "\treturn a*b\n",
        "\n",
        "\n",
        "# Print the docstring of multiply function\n",
        "print(multiply.__doc__)\n"
      ],
      "metadata": {
        "colab": {
          "base_uri": "https://localhost:8080/"
        },
        "id": "Z-Hl42RIVd1-",
        "outputId": "b3ba7936-52b7-446b-a156-fdc1fa6ea8ea"
      },
      "execution_count": null,
      "outputs": [
        {
          "output_type": "stream",
          "name": "stdout",
          "text": [
            "Multiplies the value of a and b\n"
          ]
        }
      ]
    },
    {
      "cell_type": "code",
      "source": [
        "#global variable\n",
        "x = \"awesome\"\n",
        "\n",
        "def myfunc():\n",
        "  print(\"Python is \" + x)\n",
        "\n",
        "myfunc()"
      ],
      "metadata": {
        "id": "1ZJ7z72GaCJW",
        "colab": {
          "base_uri": "https://localhost:8080/"
        },
        "outputId": "296b26bf-181d-4a21-a8f8-79712cf39734"
      },
      "execution_count": null,
      "outputs": [
        {
          "output_type": "stream",
          "name": "stdout",
          "text": [
            "Python is awesome\n"
          ]
        }
      ]
    },
    {
      "cell_type": "code",
      "source": [
        "#eate a variable inside a function, with the same name as the global variable\n",
        "x = \"awesome\"\n",
        "\n",
        "def myfunc():\n",
        "  x = \"fantastic\"\n",
        "  print(\"Python is \" + x)\n",
        "\n",
        "myfunc()\n",
        "\n",
        "print(\"Python is \" + x)"
      ],
      "metadata": {
        "colab": {
          "base_uri": "https://localhost:8080/"
        },
        "id": "aC4Q88f_2Xzc",
        "outputId": "b5bed759-9e0b-4840-e7a4-ff236e92c899"
      },
      "execution_count": null,
      "outputs": [
        {
          "output_type": "stream",
          "name": "stdout",
          "text": [
            "Python is fantastic\n",
            "Python is awesome\n"
          ]
        }
      ]
    },
    {
      "cell_type": "code",
      "source": [
        "#use the global keyword, the variable belongs to the global scope\n",
        "def myfunc():\n",
        "  global x\n",
        "  x = \"fantastic\"\n",
        "\n",
        "myfunc()\n",
        "\n",
        "print(\"Python is \" + x)"
      ],
      "metadata": {
        "colab": {
          "base_uri": "https://localhost:8080/"
        },
        "id": "SBJhKMsL2j7S",
        "outputId": "ebbe6549-4653-49a3-a740-60a5a3704d47"
      },
      "execution_count": null,
      "outputs": [
        {
          "output_type": "stream",
          "name": "stdout",
          "text": [
            "Python is fantastic\n"
          ]
        }
      ]
    },
    {
      "cell_type": "code",
      "source": [
        "#use the global keyword if you want to change a global variable inside a function.\n",
        "x = \"awesome\"\n",
        "\n",
        "def myfunc():\n",
        "  global x\n",
        "  x = \"fantastic\"\n",
        "\n",
        "myfunc()\n",
        "\n",
        "print(\"Python is \" + x)"
      ],
      "metadata": {
        "colab": {
          "base_uri": "https://localhost:8080/"
        },
        "id": "FMEJVQ6R2t0E",
        "outputId": "786e124f-5c99-4f5f-d067-c44d0efe36d9"
      },
      "execution_count": null,
      "outputs": [
        {
          "output_type": "stream",
          "name": "stdout",
          "text": [
            "Python is fantastic\n"
          ]
        }
      ]
    },
    {
      "cell_type": "code",
      "source": [
        "#use the global keyword, the variable belongs to the global scope:\n",
        "def myfunc():\n",
        "  global x\n",
        "  x = \"fantastic\"\n",
        "\n",
        "myfunc()\n",
        "\n",
        "print(\"Python is \" + x)"
      ],
      "metadata": {
        "colab": {
          "base_uri": "https://localhost:8080/"
        },
        "id": "K-70E0El21VU",
        "outputId": "a7028dd9-5856-4d39-fbee-fadf6c00e147"
      },
      "execution_count": null,
      "outputs": [
        {
          "output_type": "stream",
          "name": "stdout",
          "text": [
            "Python is fantastic\n"
          ]
        }
      ]
    },
    {
      "cell_type": "code",
      "source": [
        "#To change the value of a global variable inside a function, refer to the variable by using the global keyword:\n",
        "x = \"awesome\"\n",
        "\n",
        "def myfunc():\n",
        "  global x\n",
        "  x = \"fantastic\"\n",
        "\n",
        "myfunc()\n",
        "\n",
        "print(\"Python is \" + x)"
      ],
      "metadata": {
        "colab": {
          "base_uri": "https://localhost:8080/"
        },
        "id": "asy6T9LYUJjW",
        "outputId": "70a7d812-e832-4a8f-b8a9-6c1554071abf"
      },
      "execution_count": null,
      "outputs": [
        {
          "output_type": "stream",
          "name": "stdout",
          "text": [
            "Python is fantastic\n"
          ]
        }
      ]
    },
    {
      "cell_type": "code",
      "source": [],
      "metadata": {
        "id": "JcoJbfcMUQtB"
      },
      "execution_count": null,
      "outputs": []
    },
    {
      "cell_type": "markdown",
      "source": [
        "#Chapter-03\n",
        "###Python Sring\n"
      ],
      "metadata": {
        "id": "5A2wAeWw24Sy"
      }
    },
    {
      "cell_type": "code",
      "source": [
        "#Loop through the letters in the word \"banana\":\n",
        "for x in \"banana\":\n",
        "  print(x)\n"
      ],
      "metadata": {
        "colab": {
          "base_uri": "https://localhost:8080/"
        },
        "id": "HtVswGwy3R4y",
        "outputId": "ffe277ea-f0f0-473b-86af-241ecb0eb1bb"
      },
      "execution_count": null,
      "outputs": [
        {
          "output_type": "stream",
          "name": "stdout",
          "text": [
            "b\n",
            "a\n",
            "n\n",
            "a\n",
            "n\n",
            "a\n"
          ]
        }
      ]
    },
    {
      "cell_type": "code",
      "source": [
        "#To get the length of a string, use the len() function.\n",
        "a = \"Hello,  World!\"\n",
        "print(len(a))"
      ],
      "metadata": {
        "colab": {
          "base_uri": "https://localhost:8080/"
        },
        "id": "aP0kpgWntwrn",
        "outputId": "7cc8d0d3-4a1a-48fa-ac1a-5126797a6655"
      },
      "execution_count": null,
      "outputs": [
        {
          "output_type": "stream",
          "name": "stdout",
          "text": [
            "14\n"
          ]
        }
      ]
    },
    {
      "cell_type": "code",
      "source": [
        "#To check if a certain phrase or character is present in a string, we can use the keyword in\n",
        "txt = \"The best things in life are free!\"\n",
        "print(\"free\" in txt)"
      ],
      "metadata": {
        "colab": {
          "base_uri": "https://localhost:8080/"
        },
        "id": "-P99yyfwtzme",
        "outputId": "44600f64-f1bf-4add-82de-8d418aff5dd8"
      },
      "execution_count": null,
      "outputs": [
        {
          "output_type": "stream",
          "name": "stdout",
          "text": [
            "True\n"
          ]
        }
      ]
    },
    {
      "cell_type": "code",
      "source": [
        "#Check if \"expensive\" is NOT present in the following text:\n",
        "txt = \"The best things in life are free!\"\n",
        "print(\"expensive\" not in txt)"
      ],
      "metadata": {
        "colab": {
          "base_uri": "https://localhost:8080/"
        },
        "id": "XlcdLcpMuXtx",
        "outputId": "ba90e3d0-40a5-40a2-cf6d-87e955b8b83b"
      },
      "execution_count": null,
      "outputs": [
        {
          "output_type": "stream",
          "name": "stdout",
          "text": [
            "True\n"
          ]
        }
      ]
    },
    {
      "cell_type": "code",
      "source": [
        "#print only if \"expensive\" is NOT present:\n",
        "\n",
        "txt = \"The best things in life are free!\"\n",
        "if \"expensive\" not in txt:\n",
        "  print(\"No, 'expensive' is NOT present.\")"
      ],
      "metadata": {
        "colab": {
          "base_uri": "https://localhost:8080/"
        },
        "id": "QYlHDG6eubOi",
        "outputId": "93537142-e5a9-41d4-a114-6e23403b2020"
      },
      "execution_count": null,
      "outputs": [
        {
          "output_type": "stream",
          "name": "stdout",
          "text": [
            "No, 'expensive' is NOT present.\n"
          ]
        }
      ]
    },
    {
      "cell_type": "code",
      "source": [
        "name = input(\"What's your name? \")\n",
        "What's your name?"
      ],
      "metadata": {
        "id": "EnMLDXkRui-F"
      },
      "execution_count": null,
      "outputs": []
    },
    {
      "cell_type": "code",
      "source": [
        "#Check if \"free\" is present in the following text:\n",
        "\n",
        "txt = \"The best things in life are free!\"\n",
        "print(\"free\" in txt)"
      ],
      "metadata": {
        "id": "KeGasIFNtaTa"
      },
      "execution_count": null,
      "outputs": []
    },
    {
      "cell_type": "code",
      "source": [
        "#Print only if \"free\" is present:\n",
        "\n",
        "txt = \"The best things in life are free!\"\n",
        "if \"free\" in txt:\n",
        "  print(\"Yes, 'free' is present.\")"
      ],
      "metadata": {
        "id": "UiqoU-y5AqMb"
      },
      "execution_count": null,
      "outputs": []
    },
    {
      "cell_type": "code",
      "source": [
        "#Check if \"expensive\" is NOT present in the following text:\n",
        "\n",
        "txt = \"The best things in life are free!\"\n",
        "print(\"expensive\" not in txt)"
      ],
      "metadata": {
        "id": "K37wArIeAzEc"
      },
      "execution_count": null,
      "outputs": []
    },
    {
      "cell_type": "code",
      "source": [
        "#print only if \"expensive\" is NOT present:\n",
        "\n",
        "txt = \"The best things in life are free!\"\n",
        "if \"expensive\" not in txt:\n",
        "  print(\"No, 'expensive' is NOT present.\")"
      ],
      "metadata": {
        "id": "kU1YSwAZA1mv"
      },
      "execution_count": null,
      "outputs": []
    },
    {
      "cell_type": "code",
      "source": [
        "#Get the characters from position 2 to position 5 (not included):\n",
        "\n",
        "b = \"Hello, World!\"\n",
        "print(b[2:5])"
      ],
      "metadata": {
        "id": "dpvT_VufBVz_"
      },
      "execution_count": null,
      "outputs": []
    },
    {
      "cell_type": "code",
      "source": [
        "#Get the characters from the start to position 5 (not included):\n",
        "\n",
        "b = \"Hello, World!\"\n",
        "print(b[:5])"
      ],
      "metadata": {
        "id": "lhNKRoRPFgHB"
      },
      "execution_count": null,
      "outputs": []
    },
    {
      "cell_type": "code",
      "source": [
        "#Get the characters from position 2, and all the way to the end:\n",
        "\n",
        "b = \"Hello, World!\"\n",
        "print(b[2:])"
      ],
      "metadata": {
        "id": "ONiBtFsoFlqv"
      },
      "execution_count": null,
      "outputs": []
    },
    {
      "cell_type": "code",
      "source": [
        "\"\"\"Get the characters:\n",
        "From: \"o\" in \"World!\" (position -5)\n",
        "To, but not included: \"d\" in \"World!\" (position -2):\"\"\"\n",
        "\n",
        "b = \"Hello, World!\"\n",
        "print(b[-5:-2])"
      ],
      "metadata": {
        "id": "8jm-W1tiFotX"
      },
      "execution_count": null,
      "outputs": []
    },
    {
      "cell_type": "markdown",
      "source": [
        "### Modify Strings"
      ],
      "metadata": {
        "id": "EJWtvOUTGra1"
      }
    },
    {
      "cell_type": "code",
      "source": [
        "#The upper() method returns the string in upper case:\n",
        "\n",
        "a = \"Hello, World!\"\n",
        "print(a.upper())"
      ],
      "metadata": {
        "id": "zOe7zM_HG6pD"
      },
      "execution_count": null,
      "outputs": []
    },
    {
      "cell_type": "code",
      "source": [
        "#The lower() method returns the string in lower case:\n",
        "\n",
        "a = \"Hello, World!\"\n",
        "print(a.lower())"
      ],
      "metadata": {
        "id": "FP8ev6AnHBSm"
      },
      "execution_count": null,
      "outputs": []
    },
    {
      "cell_type": "code",
      "source": [
        "#The strip() method removes any whitespace from the beginning or the end:\n",
        "\n",
        "a = \" Hello, World! \"\n",
        "print(a.strip()) # returns \"Hello, World!\""
      ],
      "metadata": {
        "id": "HUMflLpCHEyp"
      },
      "execution_count": null,
      "outputs": []
    },
    {
      "cell_type": "code",
      "source": [
        "#The replace() method replaces a string with another string:\n",
        "\n",
        "a = \"Hello, World!\"\n",
        "print(a.replace(\"H\", \"J\"))"
      ],
      "metadata": {
        "id": "ME3F22M1HGHV"
      },
      "execution_count": null,
      "outputs": []
    },
    {
      "cell_type": "code",
      "source": [
        "#The split() method splits the string into substrings if it finds instances of the separator:\n",
        "\n",
        "a = \"Hello, World!\"\n",
        "print(a.split(\",\")) # returns ['Hello', ' World!']"
      ],
      "metadata": {
        "id": "nnHgvPwpHJsK"
      },
      "execution_count": null,
      "outputs": []
    },
    {
      "cell_type": "markdown",
      "source": [
        "###String Concatenation :\n",
        "To concatenate, or combine, two strings you can use the + operator."
      ],
      "metadata": {
        "id": "CXyjhrWKKpLM"
      }
    },
    {
      "cell_type": "code",
      "source": [
        "a = \"Hello\"\n",
        "b = \"World\"\n",
        "c = a + b\n",
        "print(c)"
      ],
      "metadata": {
        "id": "PP-4i_OXKrOL"
      },
      "execution_count": null,
      "outputs": []
    },
    {
      "cell_type": "code",
      "source": [
        "To add a space between them, add a \" \":\n",
        "\n",
        "a = \"Hello\"\n",
        "b = \"World\"\n",
        "c = a + \" \" + b\n",
        "print(c)"
      ],
      "metadata": {
        "id": "nCbhQVDzM50A"
      },
      "execution_count": null,
      "outputs": []
    },
    {
      "cell_type": "code",
      "source": [
        "#Use the format() method to insert numbers into strings:\n",
        "\n",
        "age = 36\n",
        "txt = \"My name is John, and I am {}\"\n",
        "print(txt.format(age))"
      ],
      "metadata": {
        "id": "1GYU37jkM8lz",
        "colab": {
          "base_uri": "https://localhost:8080/"
        },
        "outputId": "c1e0c217-c75a-4bc4-9e83-52218f67ee33"
      },
      "execution_count": 1,
      "outputs": [
        {
          "output_type": "stream",
          "name": "stdout",
          "text": [
            "My name is John, and I am 36\n"
          ]
        }
      ]
    },
    {
      "cell_type": "code",
      "source": [
        "#The format() method takes unlimited number of arguments, and are placed into the respective placeholders:\n",
        "\n",
        "#Example\n",
        "quantity = 3\n",
        "itemno = 567\n",
        "price = 49.95\n",
        "myorder = \"I want {} pieces of item {} for {} dollars.\"\n",
        "print(myorder.format(quantity, itemno, price))"
      ],
      "metadata": {
        "colab": {
          "base_uri": "https://localhost:8080/"
        },
        "id": "ubnxv1i1IL98",
        "outputId": "0224d33c-a8a6-404f-ed5f-922daefadc4e"
      },
      "execution_count": 2,
      "outputs": [
        {
          "output_type": "stream",
          "name": "stdout",
          "text": [
            "I want 3 pieces of item 567 for 49.95 dollars.\n"
          ]
        }
      ]
    },
    {
      "cell_type": "code",
      "source": [
        "#The escape character allows you to use double quotes when you normally would not be allowed:\n",
        "\n",
        "txt = \"We are the so-called \\\"Vikings\\\" from the north.\"\n"
      ],
      "metadata": {
        "id": "_tUuXeGxISuX"
      },
      "execution_count": 3,
      "outputs": []
    },
    {
      "cell_type": "code",
      "source": [],
      "metadata": {
        "id": "ozMZMb8PIa-0"
      },
      "execution_count": null,
      "outputs": []
    },
    {
      "cell_type": "markdown",
      "source": [
        "Python Booleans\n"
      ],
      "metadata": {
        "id": "aEOGzoEOgBsV"
      }
    },
    {
      "cell_type": "code",
      "source": [
        "#Print a message based on whether the condition is True or False:\n",
        "\n",
        "a = 200\n",
        "b = 33\n",
        "\n",
        "if b > a:\n",
        "  print(\"b is greater than a\")\n",
        "else:\n",
        "  print(\"b is not greater than a\")"
      ],
      "metadata": {
        "colab": {
          "base_uri": "https://localhost:8080/"
        },
        "id": "EmnXTx9RgDM6",
        "outputId": "59d80a93-7e74-4c53-f49b-98d8b7f2bd02"
      },
      "execution_count": 4,
      "outputs": [
        {
          "output_type": "stream",
          "name": "stdout",
          "text": [
            "b is not greater than a\n"
          ]
        }
      ]
    },
    {
      "cell_type": "code",
      "source": [
        "#Evaluate a string and a number:\n",
        "\n",
        "print(bool(\"Hello\"))\n",
        "print(bool(15))"
      ],
      "metadata": {
        "colab": {
          "base_uri": "https://localhost:8080/"
        },
        "id": "ReWhovAJgR2F",
        "outputId": "ae5c91ce-9908-4156-dda6-c78ae086909b"
      },
      "execution_count": 5,
      "outputs": [
        {
          "output_type": "stream",
          "name": "stdout",
          "text": [
            "True\n",
            "True\n"
          ]
        }
      ]
    },
    {
      "cell_type": "code",
      "source": [
        "#The following will return False:\n",
        "\n",
        "bool(False)\n",
        "bool(None)\n",
        "bool(0)\n",
        "bool(\"\")\n",
        "bool(())\n",
        "bool([])\n",
        "bool({})"
      ],
      "metadata": {
        "colab": {
          "base_uri": "https://localhost:8080/"
        },
        "id": "w7HQlYQ7gY61",
        "outputId": "39e6138d-ad24-4b27-fece-13f268a00374"
      },
      "execution_count": 6,
      "outputs": [
        {
          "output_type": "execute_result",
          "data": {
            "text/plain": [
              "False"
            ]
          },
          "metadata": {},
          "execution_count": 6
        }
      ]
    },
    {
      "cell_type": "code",
      "source": [
        "#Functions can Return a Boolean\n",
        "def myFunction() :\n",
        "  return True\n",
        "\n",
        "print(myFunction())"
      ],
      "metadata": {
        "colab": {
          "base_uri": "https://localhost:8080/"
        },
        "id": "F5nzphkKgii2",
        "outputId": "729bee53-353a-473c-d24c-c3f8cf114b86"
      },
      "execution_count": 7,
      "outputs": [
        {
          "output_type": "stream",
          "name": "stdout",
          "text": [
            "True\n"
          ]
        }
      ]
    },
    {
      "cell_type": "code",
      "source": [
        "#Functions can Return a Boolean\n",
        "def myFunction() :\n",
        "  return True\n",
        "\n",
        "if myFunction():\n",
        "  print(\"YES!\")\n",
        "else:\n",
        "  print(\"NO!\")"
      ],
      "metadata": {
        "colab": {
          "base_uri": "https://localhost:8080/"
        },
        "id": "wkQKHuh-g5t1",
        "outputId": "ac495473-a02e-447b-c209-ab9ac7effba3"
      },
      "execution_count": 8,
      "outputs": [
        {
          "output_type": "stream",
          "name": "stdout",
          "text": [
            "YES!\n"
          ]
        }
      ]
    },
    {
      "cell_type": "markdown",
      "source": [
        "Python also has many built-in functions that return a boolean value, like the isinstance() function, which can be used to determine if an object is of a certain data type:"
      ],
      "metadata": {
        "id": "WwjqY7PAhCw9"
      }
    },
    {
      "cell_type": "code",
      "source": [
        "#Check if an object is an integer or not:\n",
        "\n",
        "x = 200\n",
        "print(isinstance(x, int))"
      ],
      "metadata": {
        "colab": {
          "base_uri": "https://localhost:8080/"
        },
        "id": "RuHOls1DhEGX",
        "outputId": "80861585-7d48-45d2-9749-e0177686e103"
      },
      "execution_count": 9,
      "outputs": [
        {
          "output_type": "stream",
          "name": "stdout",
          "text": [
            "True\n"
          ]
        }
      ]
    },
    {
      "cell_type": "markdown",
      "source": [
        "#Chapter-04\n",
        "##Python Collections(Arrays)\n",
        "###4 types.\n",
        "1.List\n",
        "2.Tuple\n",
        "3.Set\n",
        "4.Dictonaty\n",
        "####Difference of them : [Differences  of  list, tuple, set, dictonary](https://www.scaler.com/topics/python/difference-between-dictionary-list-tuple-and-set-in-python/)\n",
        "\n"
      ],
      "metadata": {
        "id": "0Sw5JLQanuFe"
      }
    },
    {
      "cell_type": "markdown",
      "source": [
        "##Python - List  [Method](https://www.w3schools.com/python/python_lists_methods.asp)\n",
        "\n",
        "\n",
        "![image.png](data:image/png;base64,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)\n",
        "\n"
      ],
      "metadata": {
        "id": "QaHSwKgJeDEU"
      }
    },
    {
      "cell_type": "code",
      "source": [
        "thislist = [\"apple\", \"banana\", \"cherry\", \"orange\", \"kiwi\", \"melon\", \"mango\"]\n",
        "print(thislist[2])\n",
        "print(thislist[-3])\n",
        "print(thislist[2:5])\n",
        "print(thislist[2:])\n",
        "print(thislist[:5])\n",
        "print(thislist[-4:-1])"
      ],
      "metadata": {
        "colab": {
          "base_uri": "https://localhost:8080/"
        },
        "id": "lNPXT5dcssA6",
        "outputId": "3b5f1070-c762-454d-b91c-78d803d39775"
      },
      "execution_count": 42,
      "outputs": [
        {
          "output_type": "stream",
          "name": "stdout",
          "text": [
            "cherry\n",
            "kiwi\n",
            "['cherry', 'orange', 'kiwi']\n",
            "['cherry', 'orange', 'kiwi', 'melon', 'mango']\n",
            "['apple', 'banana', 'cherry', 'orange', 'kiwi']\n",
            "['orange', 'kiwi', 'melon']\n"
          ]
        }
      ]
    },
    {
      "cell_type": "code",
      "source": [
        "#Check if \"apple\" is present in the list:\n",
        "\n",
        "thislist = [\"apple\", \"banana\", \"cherry\"]\n",
        "if \"apple\" in thislist:\n",
        "  print(\"Yes, 'apple' is in the fruits list\")\n"
      ],
      "metadata": {
        "colab": {
          "base_uri": "https://localhost:8080/"
        },
        "id": "O5oGu9LD2V-q",
        "outputId": "6fff0cc9-ebdc-4927-9ec0-ef0fd7fd4c3d"
      },
      "execution_count": 43,
      "outputs": [
        {
          "output_type": "stream",
          "name": "stdout",
          "text": [
            "Yes, 'apple' is in the fruits list\n"
          ]
        }
      ]
    },
    {
      "cell_type": "code",
      "source": [
        "#Change the second item:\n",
        "\n",
        "thislist = [\"apple\", \"banana\", \"cherry\"]\n",
        "thislist[1] = \"blackcurrant\"\n",
        "print(thislist)"
      ],
      "metadata": {
        "colab": {
          "base_uri": "https://localhost:8080/"
        },
        "id": "PWMTttw13HC6",
        "outputId": "3eda4bab-6116-4ec7-ab47-6a5623f64c06"
      },
      "execution_count": 44,
      "outputs": [
        {
          "output_type": "stream",
          "name": "stdout",
          "text": [
            "['apple', 'blackcurrant', 'cherry']\n"
          ]
        }
      ]
    },
    {
      "cell_type": "code",
      "source": [
        "#Change the second value by replacing it with two new values:\n",
        "\n",
        "thislist = [\"apple\", \"banana\", \"cherry\"]\n",
        "thislist[1:2] = [\"blackcurrant\", \"watermelon\"]\n",
        "print(thislist)"
      ],
      "metadata": {
        "colab": {
          "base_uri": "https://localhost:8080/"
        },
        "id": "HzMKDOSJ2zCR",
        "outputId": "8b7feea1-b7e0-424f-caa8-7a25f445ab32"
      },
      "execution_count": 45,
      "outputs": [
        {
          "output_type": "stream",
          "name": "stdout",
          "text": [
            "['apple', 'blackcurrant', 'watermelon', 'cherry']\n"
          ]
        }
      ]
    },
    {
      "cell_type": "code",
      "source": [
        "#Change the second value by replacing it with two new values:\n",
        "\n",
        "thislist = [\"apple\", \"banana\", \"cherry\"]\n",
        "thislist[1:2] = [\"blackcurrant\", \"watermelon\"]\n",
        "print(thislist)"
      ],
      "metadata": {
        "colab": {
          "base_uri": "https://localhost:8080/"
        },
        "id": "c9Bn4uWs2eNJ",
        "outputId": "f9a66f95-a94d-458f-ad2f-1bbd99fa3e77"
      },
      "execution_count": 46,
      "outputs": [
        {
          "output_type": "stream",
          "name": "stdout",
          "text": [
            "['apple', 'blackcurrant', 'watermelon', 'cherry']\n"
          ]
        }
      ]
    },
    {
      "cell_type": "code",
      "source": [
        "#Using the append() method to append an item:\n",
        "\n",
        "thislist = [\"apple\", \"banana\", \"cherry\"]\n",
        "thislist.append(\"orange\")\n",
        "print(thislist)"
      ],
      "metadata": {
        "colab": {
          "base_uri": "https://localhost:8080/"
        },
        "id": "zuDPN57a3UKa",
        "outputId": "15922baa-ece8-43e9-db6e-f6316f646558"
      },
      "execution_count": 47,
      "outputs": [
        {
          "output_type": "stream",
          "name": "stdout",
          "text": [
            "['apple', 'banana', 'cherry', 'orange']\n"
          ]
        }
      ]
    },
    {
      "cell_type": "code",
      "source": [
        "#The insert() method inserts an item at the specified index:\n",
        "#Insert an item as the second position:\n",
        "\n",
        "thislist = [\"apple\", \"banana\", \"cherry\"]\n",
        "thislist.insert(1, \"orange\")\n",
        "print(thislist)"
      ],
      "metadata": {
        "colab": {
          "base_uri": "https://localhost:8080/"
        },
        "id": "FZqWswtD8ZhP",
        "outputId": "55d6cf85-3da0-4f6e-83f0-eef2bce736a5"
      },
      "execution_count": 48,
      "outputs": [
        {
          "output_type": "stream",
          "name": "stdout",
          "text": [
            "['apple', 'orange', 'banana', 'cherry']\n"
          ]
        }
      ]
    },
    {
      "cell_type": "code",
      "source": [
        "#To append elements from another list to the current list, use the extend() method.\n",
        "#Add the elements of tropical to thislist:\n",
        "\n",
        "thislist = [\"apple\", \"banana\", \"cherry\"]\n",
        "tropical = [\"mango\", \"pineapple\", \"papaya\"]\n",
        "thislist.extend(tropical)\n",
        "print(thislist)"
      ],
      "metadata": {
        "colab": {
          "base_uri": "https://localhost:8080/"
        },
        "id": "4Xjb72YH9pD5",
        "outputId": "54b54b21-8e31-4bb0-fde0-82989ec68ca2"
      },
      "execution_count": 49,
      "outputs": [
        {
          "output_type": "stream",
          "name": "stdout",
          "text": [
            "['apple', 'banana', 'cherry', 'mango', 'pineapple', 'papaya']\n"
          ]
        }
      ]
    },
    {
      "cell_type": "code",
      "source": [
        "#The remove() method removes the specified item.\n",
        "#Remove \"banana\":\n",
        "\n",
        "thislist = [\"apple\", \"banana\", \"cherry\"]\n",
        "thislist.remove(\"banana\")\n",
        "print(thislist)\n"
      ],
      "metadata": {
        "colab": {
          "base_uri": "https://localhost:8080/"
        },
        "id": "jNyfGH-z9u-d",
        "outputId": "5572a29d-2548-4769-8b2b-bff49ad6f870"
      },
      "execution_count": 50,
      "outputs": [
        {
          "output_type": "stream",
          "name": "stdout",
          "text": [
            "['apple', 'cherry']\n"
          ]
        }
      ]
    },
    {
      "cell_type": "code",
      "source": [
        "#If there are more than one item with the specified value, the remove() method removes the first occurance:\n",
        "\n",
        "thislist = [\"apple\", \"banana\", \"cherry\", \"banana\", \"kiwi\"]\n",
        "thislist.remove(\"banana\")\n",
        "print(thislist)"
      ],
      "metadata": {
        "colab": {
          "base_uri": "https://localhost:8080/"
        },
        "id": "siPTFUx4-Jtv",
        "outputId": "0a580aea-4cb6-467e-fa90-952d459274c9"
      },
      "execution_count": 51,
      "outputs": [
        {
          "output_type": "stream",
          "name": "stdout",
          "text": [
            "['apple', 'cherry', 'banana', 'kiwi']\n"
          ]
        }
      ]
    },
    {
      "cell_type": "markdown",
      "source": [
        "Remove Specified Index\n"
      ],
      "metadata": {
        "id": "jcRbAAc9-fhG"
      }
    },
    {
      "cell_type": "code",
      "source": [
        "\n",
        "#The pop() method removes the specified index.\n",
        "#Remove the second item:\n",
        "\n",
        "thislist = [\"apple\", \"banana\", \"cherry\"]\n",
        "thislist.pop(1)\n",
        "print(thislist)"
      ],
      "metadata": {
        "colab": {
          "base_uri": "https://localhost:8080/"
        },
        "id": "irBln7o5-nIm",
        "outputId": "0ad3ce01-7279-4c81-cd44-cfaaafb5bb78"
      },
      "execution_count": 52,
      "outputs": [
        {
          "output_type": "stream",
          "name": "stdout",
          "text": [
            "['apple', 'cherry']\n"
          ]
        }
      ]
    },
    {
      "cell_type": "code",
      "source": [
        "#Remove the last item:\n",
        "\n",
        "thislist = [\"apple\", \"banana\", \"cherry\"]\n",
        "thislist.pop()\n",
        "print(thislist)"
      ],
      "metadata": {
        "colab": {
          "base_uri": "https://localhost:8080/"
        },
        "id": "TcqTT_8y-vn5",
        "outputId": "cbe2732a-97a8-46f2-9b00-81577b20de64"
      },
      "execution_count": 53,
      "outputs": [
        {
          "output_type": "stream",
          "name": "stdout",
          "text": [
            "['apple', 'banana']\n"
          ]
        }
      ]
    },
    {
      "cell_type": "code",
      "source": [
        "#The del keyword also removes the specified index\n",
        "#Delete the entire list:\n",
        "\n",
        "thislist = [\"apple\", \"banana\", \"cherry\"]\n",
        "del thislist"
      ],
      "metadata": {
        "id": "Bk9hdAmK_JJu"
      },
      "execution_count": 54,
      "outputs": []
    },
    {
      "cell_type": "code",
      "source": [
        "#The clear() method empties the list.\n",
        "#Clear the list content:\n",
        "\n",
        "thislist = [\"apple\", \"banana\", \"cherry\"]\n",
        "thislist.clear()\n",
        "print(thislist)"
      ],
      "metadata": {
        "colab": {
          "base_uri": "https://localhost:8080/"
        },
        "id": "XOLQl5Vi_O1d",
        "outputId": "0c3cf883-f3eb-438f-e239-65ebc92bfb18"
      },
      "execution_count": 55,
      "outputs": [
        {
          "output_type": "stream",
          "name": "stdout",
          "text": [
            "[]\n"
          ]
        }
      ]
    },
    {
      "cell_type": "markdown",
      "source": [
        "Loop Through a List......\n",
        "You can loop through the list items by using a for loop:"
      ],
      "metadata": {
        "id": "1gKdbogyAlru"
      }
    },
    {
      "cell_type": "code",
      "source": [
        "#Print all items in the list, one by one:\n",
        "\n",
        "thislist = [\"apple\", \"banana\", \"cherry\"]\n",
        "for x in thislist:\n",
        "  print(x)"
      ],
      "metadata": {
        "colab": {
          "base_uri": "https://localhost:8080/"
        },
        "id": "SkU1VrMuAo8P",
        "outputId": "e2ecf629-f3d0-4dae-fd01-6f34ac20ceb8"
      },
      "execution_count": 56,
      "outputs": [
        {
          "output_type": "stream",
          "name": "stdout",
          "text": [
            "apple\n",
            "banana\n",
            "cherry\n"
          ]
        }
      ]
    },
    {
      "cell_type": "code",
      "source": [
        "#Use the range() and len() functions to create a suitable iterable.\n",
        "thislist = [\"apple\", \"banana\", \"cherry\"]\n",
        "for i in range(len(thislist)):\n",
        "  print(thislist[i])"
      ],
      "metadata": {
        "colab": {
          "base_uri": "https://localhost:8080/"
        },
        "id": "W8EpCl5XAsPe",
        "outputId": "9dcbff72-4edd-4e4a-928e-7009ccf920ff"
      },
      "execution_count": 57,
      "outputs": [
        {
          "output_type": "stream",
          "name": "stdout",
          "text": [
            "apple\n",
            "banana\n",
            "cherry\n"
          ]
        }
      ]
    },
    {
      "cell_type": "code",
      "source": [],
      "metadata": {
        "id": "ZQVh0LmLA0ji"
      },
      "execution_count": 57,
      "outputs": []
    },
    {
      "cell_type": "markdown",
      "source": [
        "You can loop through the list items by using a while loop.\n",
        "\n",
        "Use the len() function to determine the length of the list, then start at 0 and loop your way through the list items by referring to their indexes.\n",
        "\n",
        "Remember to increase the index by 1 after each iteration."
      ],
      "metadata": {
        "id": "c1p6h_qhA8_M"
      }
    },
    {
      "cell_type": "code",
      "source": [
        "#Print all items, using a while loop to go through all the index numbers\n",
        "\n",
        "thislist = [\"apple\", \"banana\", \"cherry\"]\n",
        "i = 0\n",
        "while i < len(thislist):\n",
        "  print(thislist[i])\n",
        "  i = i + 1"
      ],
      "metadata": {
        "colab": {
          "base_uri": "https://localhost:8080/"
        },
        "id": "s3nenwvMA-PZ",
        "outputId": "3544f4b7-3ed0-487a-94d9-b31fe2c5bee5"
      },
      "execution_count": 58,
      "outputs": [
        {
          "output_type": "stream",
          "name": "stdout",
          "text": [
            "apple\n",
            "banana\n",
            "cherry\n"
          ]
        }
      ]
    },
    {
      "cell_type": "code",
      "source": [],
      "metadata": {
        "id": "suGk8-wFBBQr"
      },
      "execution_count": 58,
      "outputs": []
    },
    {
      "cell_type": "markdown",
      "source": [
        "Looping Using List Comprehension\n",
        "\n",
        "List Comprehension offers the shortest syntax for looping through lists"
      ],
      "metadata": {
        "id": "X_ZVmKNFBF9R"
      }
    },
    {
      "cell_type": "code",
      "source": [
        "#A short hand for loop that will print all items in a list:\n",
        "\n",
        "thislist = [\"apple\", \"banana\", \"cherry\"]\n",
        "[print(x) for x in thislist]"
      ],
      "metadata": {
        "colab": {
          "base_uri": "https://localhost:8080/"
        },
        "id": "7ZBg3uvLBJgM",
        "outputId": "a9e57bc6-fe75-451a-8173-55ed89a754ee"
      },
      "execution_count": 59,
      "outputs": [
        {
          "output_type": "stream",
          "name": "stdout",
          "text": [
            "apple\n",
            "banana\n",
            "cherry\n"
          ]
        },
        {
          "output_type": "execute_result",
          "data": {
            "text/plain": [
              "[None, None, None]"
            ]
          },
          "metadata": {},
          "execution_count": 59
        }
      ]
    },
    {
      "cell_type": "code",
      "source": [
        "fruits = [\"apple\", \"banana\", \"cherry\", \"kiwi\", \"mango\"]\n",
        "newlist = []\n",
        "\n",
        "for x in fruits:\n",
        "  if \"a\" in x:\n",
        "    newlist.append(x)\n",
        "\n",
        "print(newlist)"
      ],
      "metadata": {
        "colab": {
          "base_uri": "https://localhost:8080/"
        },
        "id": "CvSW0YtCBRSS",
        "outputId": "dd8a5799-7b3a-4ff7-e6cd-b846bcb7c49d"
      },
      "execution_count": 60,
      "outputs": [
        {
          "output_type": "stream",
          "name": "stdout",
          "text": [
            "['apple', 'banana', 'mango']\n"
          ]
        }
      ]
    },
    {
      "cell_type": "code",
      "source": [
        "fruits = [\"apple\", \"banana\", \"cherry\", \"kiwi\", \"mango\"]\n",
        "\n",
        "newlist = [x for x in fruits if \"a\" in x]\n",
        "\n",
        "print(newlist)"
      ],
      "metadata": {
        "colab": {
          "base_uri": "https://localhost:8080/"
        },
        "id": "c6JxyStpBaK2",
        "outputId": "9c7ba942-f3b6-4895-f990-dcc7a8af0ecf"
      },
      "execution_count": 61,
      "outputs": [
        {
          "output_type": "stream",
          "name": "stdout",
          "text": [
            "['apple', 'banana', 'mango']\n"
          ]
        }
      ]
    },
    {
      "cell_type": "code",
      "source": [
        "#The Syntax\n",
        "#newlist = [expression for item in iterable if condition == True"
      ],
      "metadata": {
        "id": "kujU8w2VBfKJ"
      },
      "execution_count": 62,
      "outputs": []
    },
    {
      "cell_type": "code",
      "source": [
        "fruits = [\"apple\", \"banana\", \"cherry\", \"kiwi\", \"mango\"]\n",
        "\n",
        "newlist = ['hello' for x in fruits]\n",
        "\n",
        "print(newlist)\n"
      ],
      "metadata": {
        "colab": {
          "base_uri": "https://localhost:8080/"
        },
        "id": "aL0_uznXBu_d",
        "outputId": "abe410a6-7e98-4ee5-c549-80b751514e8f"
      },
      "execution_count": 63,
      "outputs": [
        {
          "output_type": "stream",
          "name": "stdout",
          "text": [
            "['hello', 'hello', 'hello', 'hello', 'hello']\n"
          ]
        }
      ]
    },
    {
      "cell_type": "code",
      "source": [
        "fruits = [\"apple\", \"banana\", \"cherry\", \"kiwi\", \"mango\"]\n",
        "\n",
        "newlist = [x if x != \"banana\" else \"orange\" for x in fruits]\n",
        "\n",
        "print(newlist)"
      ],
      "metadata": {
        "colab": {
          "base_uri": "https://localhost:8080/"
        },
        "id": "22FfXYY1BjYH",
        "outputId": "1c5401ac-319e-4b86-f483-f859a99a83c6"
      },
      "execution_count": 64,
      "outputs": [
        {
          "output_type": "stream",
          "name": "stdout",
          "text": [
            "['apple', 'orange', 'cherry', 'kiwi', 'mango']\n"
          ]
        }
      ]
    },
    {
      "cell_type": "markdown",
      "source": [
        "Sort List Alphanumerically"
      ],
      "metadata": {
        "id": "EZ5yFTmvdIMU"
      }
    },
    {
      "cell_type": "code",
      "source": [
        "#Sort List Alphanumerically\n",
        "#Sort the list alphabetically:\n",
        "\n",
        "thislist = [\"orange\", \"mango\", \"kiwi\", \"pineapple\", \"banana\"]\n",
        "thislist.sort()\n",
        "print(thislist)"
      ],
      "metadata": {
        "colab": {
          "base_uri": "https://localhost:8080/"
        },
        "id": "njORHuaddJdL",
        "outputId": "724f44fd-b0cf-42ba-bd4b-138616759dc2"
      },
      "execution_count": 65,
      "outputs": [
        {
          "output_type": "stream",
          "name": "stdout",
          "text": [
            "['banana', 'kiwi', 'mango', 'orange', 'pineapple']\n"
          ]
        }
      ]
    },
    {
      "cell_type": "code",
      "source": [
        "#Sort the list numerically:\n",
        "\n",
        "thislist = [100, 50, 65, 82, 23]\n",
        "thislist.sort()\n",
        "print(thislist)"
      ],
      "metadata": {
        "colab": {
          "base_uri": "https://localhost:8080/"
        },
        "id": "xkjNJdzidQsS",
        "outputId": "2e65ffe6-4be3-45da-d299-155cb5c433e2"
      },
      "execution_count": 66,
      "outputs": [
        {
          "output_type": "stream",
          "name": "stdout",
          "text": [
            "[23, 50, 65, 82, 100]\n"
          ]
        }
      ]
    },
    {
      "cell_type": "code",
      "source": [
        "#Sort the list descending:\n",
        "\n",
        "thislist = [\"orange\", \"mango\", \"kiwi\", \"pineapple\", \"banana\"]\n",
        "thislist.sort(reverse = True)\n",
        "print(thislist)"
      ],
      "metadata": {
        "colab": {
          "base_uri": "https://localhost:8080/"
        },
        "id": "6l47vFMbdU8v",
        "outputId": "b935ac4f-57bb-4e3b-86e4-2d5f8559f702"
      },
      "execution_count": 67,
      "outputs": [
        {
          "output_type": "stream",
          "name": "stdout",
          "text": [
            "['pineapple', 'orange', 'mango', 'kiwi', 'banana']\n"
          ]
        }
      ]
    },
    {
      "cell_type": "markdown",
      "source": [
        "Copy a List"
      ],
      "metadata": {
        "id": "W0E_MH64dir2"
      }
    },
    {
      "cell_type": "code",
      "source": [
        "#Make a copy of a list with the copy() method:\n",
        "\n",
        "thislist = [\"apple\", \"banana\", \"cherry\"]\n",
        "mylist = thislist.copy()\n",
        "print(mylist)"
      ],
      "metadata": {
        "colab": {
          "base_uri": "https://localhost:8080/"
        },
        "id": "dPMniz5MdjiH",
        "outputId": "868733a1-3a02-40f7-e5f6-48120aff7219"
      },
      "execution_count": 68,
      "outputs": [
        {
          "output_type": "stream",
          "name": "stdout",
          "text": [
            "['apple', 'banana', 'cherry']\n"
          ]
        }
      ]
    },
    {
      "cell_type": "code",
      "source": [
        "#Make a copy of a list with the list() method:\n",
        "\n",
        "thislist = [\"apple\", \"banana\", \"cherry\"]\n",
        "mylist = list(thislist)\n",
        "print(mylist)"
      ],
      "metadata": {
        "colab": {
          "base_uri": "https://localhost:8080/"
        },
        "id": "0-vd3Go2dp28",
        "outputId": "7c76c09e-e322-4f8e-9ec9-cbd02686a3ae"
      },
      "execution_count": 69,
      "outputs": [
        {
          "output_type": "stream",
          "name": "stdout",
          "text": [
            "['apple', 'banana', 'cherry']\n"
          ]
        }
      ]
    },
    {
      "cell_type": "markdown",
      "source": [
        "Join Two Lists"
      ],
      "metadata": {
        "id": "AL_p6G-KdwsA"
      }
    },
    {
      "cell_type": "code",
      "source": [
        "#Join two list:\n",
        "\n",
        "list1 = [\"a\", \"b\", \"c\"]\n",
        "list2 = [1, 2, 3]\n",
        "\n",
        "list3 = list1 + list2\n",
        "print(list3)"
      ],
      "metadata": {
        "colab": {
          "base_uri": "https://localhost:8080/"
        },
        "id": "mfDnJmAvdxbL",
        "outputId": "a272861b-35bc-49d5-e125-4bc7337aafa7"
      },
      "execution_count": 70,
      "outputs": [
        {
          "output_type": "stream",
          "name": "stdout",
          "text": [
            "['a', 'b', 'c', 1, 2, 3]\n"
          ]
        }
      ]
    },
    {
      "cell_type": "markdown",
      "source": [
        "#Python Tuples\n",
        "Tuples are used to store multiple items in a single variable.\n",
        "A tuple is a collection which is ordered and unchangeable.\n",
        "Tuples are written with round brackets ()."
      ],
      "metadata": {
        "id": "MskFsfdJfEj6"
      }
    },
    {
      "cell_type": "code",
      "source": [
        "#Create a Tuple:\n",
        "\n",
        "thistuple = (\"apple\", \"banana\", \"cherry\")\n",
        "print(thistuple)"
      ],
      "metadata": {
        "colab": {
          "base_uri": "https://localhost:8080/"
        },
        "id": "tN6S3k9sfTRc",
        "outputId": "6ac325cf-a11e-4289-acda-4d1fdf4a6f2e"
      },
      "execution_count": 71,
      "outputs": [
        {
          "output_type": "stream",
          "name": "stdout",
          "text": [
            "('apple', 'banana', 'cherry')\n"
          ]
        }
      ]
    },
    {
      "cell_type": "code",
      "source": [
        "#Return the third, fourth, and fifth item:\n",
        "\n",
        "thistuple = (\"apple\", \"banana\", \"cherry\", \"orange\", \"kiwi\", \"melon\", \"mango\")\n",
        "print(thistuple[2:5])"
      ],
      "metadata": {
        "colab": {
          "base_uri": "https://localhost:8080/"
        },
        "id": "-RVyzXibfWft",
        "outputId": "5d52f590-0014-42eb-a102-13b053df1e1c"
      },
      "execution_count": 72,
      "outputs": [
        {
          "output_type": "stream",
          "name": "stdout",
          "text": [
            "('cherry', 'orange', 'kiwi')\n"
          ]
        }
      ]
    },
    {
      "cell_type": "code",
      "source": [
        "#Create a new tuple with the value \"orange\", and add that tuple:\n",
        "\n",
        "thistuple = (\"apple\", \"banana\", \"cherry\")\n",
        "y = (\"orange\",)\n",
        "thistuple += y\n",
        "\n",
        "print(thistuple)"
      ],
      "metadata": {
        "colab": {
          "base_uri": "https://localhost:8080/"
        },
        "id": "6zvOhE6cfmJz",
        "outputId": "1e7c0043-3dcc-4006-92d5-009ce4c939fd"
      },
      "execution_count": 73,
      "outputs": [
        {
          "output_type": "stream",
          "name": "stdout",
          "text": [
            "('apple', 'banana', 'cherry', 'orange')\n"
          ]
        }
      ]
    },
    {
      "cell_type": "code",
      "source": [
        "#Unpacking a tuple:\n",
        "\n",
        "fruits = (\"apple\", \"banana\", \"cherry\")\n",
        "\n",
        "(green, yellow, red) = fruits\n",
        "\n",
        "print(green)\n",
        "print(yellow)\n",
        "print(red)"
      ],
      "metadata": {
        "colab": {
          "base_uri": "https://localhost:8080/"
        },
        "id": "qwU-x6X-fuOi",
        "outputId": "985776b8-d622-4d1a-ce9b-1922e96af50d"
      },
      "execution_count": 75,
      "outputs": [
        {
          "output_type": "stream",
          "name": "stdout",
          "text": [
            "apple\n",
            "banana\n",
            "cherry\n"
          ]
        }
      ]
    },
    {
      "cell_type": "code",
      "source": [
        "#Iterate through the items and print the values:\n",
        "\n",
        "thistuple = (\"apple\", \"banana\", \"cherry\")\n",
        "for x in thistuple:\n",
        "  print(x)"
      ],
      "metadata": {
        "colab": {
          "base_uri": "https://localhost:8080/"
        },
        "id": "W7NR0DiTfzCY",
        "outputId": "80aeec6d-cb1a-415a-de5b-3745073c5b62"
      },
      "execution_count": 76,
      "outputs": [
        {
          "output_type": "stream",
          "name": "stdout",
          "text": [
            "apple\n",
            "banana\n",
            "cherry\n"
          ]
        }
      ]
    },
    {
      "cell_type": "code",
      "source": [
        "#Print all items by referring to their index number:\n",
        "\n",
        "thistuple = (\"apple\", \"banana\", \"cherry\")\n",
        "for i in range(len(thistuple)):\n",
        "  print(thistuple[i])"
      ],
      "metadata": {
        "colab": {
          "base_uri": "https://localhost:8080/"
        },
        "id": "mpuE8OLnf9-S",
        "outputId": "272fb13f-1a76-4e23-aa08-e11f6e7804b3"
      },
      "execution_count": 77,
      "outputs": [
        {
          "output_type": "stream",
          "name": "stdout",
          "text": [
            "apple\n",
            "banana\n",
            "cherry\n"
          ]
        }
      ]
    },
    {
      "cell_type": "code",
      "source": [
        "#Print all items, using a while loop to go through all the index numbers:\n",
        "\n",
        "thistuple = (\"apple\", \"banana\", \"cherry\")\n",
        "i = 0\n",
        "while i < len(thistuple):\n",
        "  print(thistuple[i])\n",
        "  i = i + 1"
      ],
      "metadata": {
        "colab": {
          "base_uri": "https://localhost:8080/"
        },
        "id": "5tJztjO5gCQe",
        "outputId": "a5837636-78f5-465e-f4e8-61260386a025"
      },
      "execution_count": 78,
      "outputs": [
        {
          "output_type": "stream",
          "name": "stdout",
          "text": [
            "apple\n",
            "banana\n",
            "cherry\n"
          ]
        }
      ]
    },
    {
      "cell_type": "markdown",
      "source": [
        "#Python Sets\n",
        "\n",
        "Sets are used to store multiple items in a single variable.A set is a collection which is unordered, unchangeable*, and unindexed.\n",
        "\n",
        "Set Method: ![image.png](data:image/png;base64,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)"
      ],
      "metadata": {
        "id": "aMDOcXOhgQ4S"
      }
    },
    {
      "cell_type": "code",
      "source": [
        "#Create a Set:\n",
        "\n",
        "thisset = {\"apple\", \"banana\", \"cherry\"}\n",
        "print(thisset)"
      ],
      "metadata": {
        "colab": {
          "base_uri": "https://localhost:8080/"
        },
        "id": "A2kGT6Uagnb7",
        "outputId": "3d1b6e5b-9fc5-42a3-931d-fde7aa0a3c5a"
      },
      "execution_count": 79,
      "outputs": [
        {
          "output_type": "stream",
          "name": "stdout",
          "text": [
            "{'banana', 'cherry', 'apple'}\n"
          ]
        }
      ]
    },
    {
      "cell_type": "code",
      "source": [
        "#Using the set() constructor to make a set:\n",
        "\n",
        "thisset = set((\"apple\", \"banana\", \"cherry\")) # note the double round-brackets\n",
        "print(thisset)"
      ],
      "metadata": {
        "colab": {
          "base_uri": "https://localhost:8080/"
        },
        "id": "tC3n_XNCgpIh",
        "outputId": "db656aa3-7c48-42c2-b6ce-cd57ea6b6c77"
      },
      "execution_count": 80,
      "outputs": [
        {
          "output_type": "stream",
          "name": "stdout",
          "text": [
            "{'banana', 'cherry', 'apple'}\n"
          ]
        }
      ]
    },
    {
      "cell_type": "code",
      "source": [],
      "metadata": {
        "id": "jEaCmPCdgxx8"
      },
      "execution_count": null,
      "outputs": []
    },
    {
      "cell_type": "markdown",
      "source": [
        "Access Items\n",
        "You cannot access items in a set by referring to an index or a key.\n",
        "\n",
        "But you can loop through the set items using a for loop, or ask if a specified value is present in a set, by using the in keyword."
      ],
      "metadata": {
        "id": "UnFiJHwbg76T"
      }
    },
    {
      "cell_type": "code",
      "source": [
        "#Loop through the set, and print the values:\n",
        "\n",
        "thisset = {\"apple\", \"banana\", \"cherry\"}\n",
        "\n",
        "for x in thisset:\n",
        "  print(x)"
      ],
      "metadata": {
        "colab": {
          "base_uri": "https://localhost:8080/"
        },
        "id": "S9S8Gc3Cg863",
        "outputId": "5d80f8f7-377f-41e6-e498-a25b0b91a1a7"
      },
      "execution_count": 81,
      "outputs": [
        {
          "output_type": "stream",
          "name": "stdout",
          "text": [
            "banana\n",
            "cherry\n",
            "apple\n"
          ]
        }
      ]
    },
    {
      "cell_type": "code",
      "source": [
        "#Add an item to a set, using the add() method:\n",
        "\n",
        "thisset = {\"apple\", \"banana\", \"cherry\"}\n",
        "\n",
        "thisset.add(\"orange\")\n",
        "\n",
        "print(thisset)"
      ],
      "metadata": {
        "colab": {
          "base_uri": "https://localhost:8080/"
        },
        "id": "KSP0VnVphFJb",
        "outputId": "a978d679-3a8b-4066-f10f-4456c049695e"
      },
      "execution_count": 82,
      "outputs": [
        {
          "output_type": "stream",
          "name": "stdout",
          "text": [
            "{'banana', 'cherry', 'apple', 'orange'}\n"
          ]
        }
      ]
    },
    {
      "cell_type": "code",
      "source": [
        "#Add elements from tropical into thisset:\n",
        "\n",
        "thisset = {\"apple\", \"banana\", \"cherry\"}\n",
        "tropical = {\"pineapple\", \"mango\", \"papaya\"}\n",
        "\n",
        "thisset.update(tropical)\n",
        "\n",
        "print(thisset)"
      ],
      "metadata": {
        "colab": {
          "base_uri": "https://localhost:8080/"
        },
        "id": "3qSAru7QhGQp",
        "outputId": "e4ddfcb3-73eb-4a11-da54-35c583758b4b"
      },
      "execution_count": 83,
      "outputs": [
        {
          "output_type": "stream",
          "name": "stdout",
          "text": [
            "{'banana', 'apple', 'mango', 'pineapple', 'papaya', 'cherry'}\n"
          ]
        }
      ]
    },
    {
      "cell_type": "code",
      "source": [
        "#Add elements of a list to at set:\n",
        "\n",
        "thisset = {\"apple\", \"banana\", \"cherry\"}\n",
        "mylist = [\"kiwi\", \"orange\"]\n",
        "\n",
        "thisset.update(mylist)\n",
        "\n",
        "print(thisset)"
      ],
      "metadata": {
        "colab": {
          "base_uri": "https://localhost:8080/"
        },
        "id": "pwjwXry8hKm2",
        "outputId": "4725d486-9155-4ec8-8977-931878ac6f7d"
      },
      "execution_count": 84,
      "outputs": [
        {
          "output_type": "stream",
          "name": "stdout",
          "text": [
            "{'banana', 'apple', 'cherry', 'orange', 'kiwi'}\n"
          ]
        }
      ]
    },
    {
      "cell_type": "code",
      "source": [
        "#Remove \"banana\" by using the remove() method:\n",
        "\n",
        "thisset = {\"apple\", \"banana\", \"cherry\"}\n",
        "\n",
        "thisset.remove(\"banana\")\n",
        "\n",
        "print(thisset)"
      ],
      "metadata": {
        "colab": {
          "base_uri": "https://localhost:8080/"
        },
        "id": "cD3T7s95hOG8",
        "outputId": "b7a68336-8cc2-454d-bc82-21fccf8e0ffd"
      },
      "execution_count": 85,
      "outputs": [
        {
          "output_type": "stream",
          "name": "stdout",
          "text": [
            "{'cherry', 'apple'}\n"
          ]
        }
      ]
    },
    {
      "cell_type": "code",
      "source": [
        "#Remove \"banana\" by using the discard() method:\n",
        "\n",
        "thisset = {\"apple\", \"banana\", \"cherry\"}\n",
        "\n",
        "thisset.discard(\"banana\")\n",
        "\n",
        "print(thisset)"
      ],
      "metadata": {
        "colab": {
          "base_uri": "https://localhost:8080/"
        },
        "id": "pcLG8Gp4hVbg",
        "outputId": "e45282c9-a2e7-434d-a755-a4a43b6b6889"
      },
      "execution_count": 86,
      "outputs": [
        {
          "output_type": "stream",
          "name": "stdout",
          "text": [
            "{'cherry', 'apple'}\n"
          ]
        }
      ]
    },
    {
      "cell_type": "code",
      "source": [
        "#Remove a random item by using the pop() method:\n",
        "\n",
        "thisset = {\"apple\", \"banana\", \"cherry\"}\n",
        "\n",
        "x = thisset.pop()\n",
        "\n",
        "print(x)\n",
        "\n",
        "print(thisset)"
      ],
      "metadata": {
        "colab": {
          "base_uri": "https://localhost:8080/"
        },
        "id": "7xnf6CoThX0H",
        "outputId": "0e9a072e-1847-463a-fdde-2087048a57cf"
      },
      "execution_count": 87,
      "outputs": [
        {
          "output_type": "stream",
          "name": "stdout",
          "text": [
            "banana\n",
            "{'cherry', 'apple'}\n"
          ]
        }
      ]
    },
    {
      "cell_type": "code",
      "source": [
        "#The clear() method empties the set:\n",
        "\n",
        "thisset = {\"apple\", \"banana\", \"cherry\"}\n",
        "\n",
        "thisset.clear()\n",
        "\n",
        "print(thisset)"
      ],
      "metadata": {
        "colab": {
          "base_uri": "https://localhost:8080/"
        },
        "id": "FDz8WSNDhdoE",
        "outputId": "68d33230-8bae-4bfb-8a76-a379e08fae2b"
      },
      "execution_count": 88,
      "outputs": [
        {
          "output_type": "stream",
          "name": "stdout",
          "text": [
            "set()\n"
          ]
        }
      ]
    },
    {
      "cell_type": "code",
      "source": [
        "#The del keyword will delete the set completely:\n",
        "\n",
        "thisset = {\"apple\", \"banana\", \"cherry\"}\n",
        "\n",
        "del thisset\n",
        "\n",
        "print(thisset)"
      ],
      "metadata": {
        "colab": {
          "base_uri": "https://localhost:8080/",
          "height": 176
        },
        "id": "UIFAVXB2hi7U",
        "outputId": "a15f97f5-8b11-4045-880c-7ddfae8a8d69"
      },
      "execution_count": 89,
      "outputs": [
        {
          "output_type": "error",
          "ename": "NameError",
          "evalue": "name 'thisset' is not defined",
          "traceback": [
            "\u001b[0;31m---------------------------------------------------------------------------\u001b[0m",
            "\u001b[0;31mNameError\u001b[0m                                 Traceback (most recent call last)",
            "\u001b[0;32m<ipython-input-89-3bd3115f2ab0>\u001b[0m in \u001b[0;36m<cell line: 7>\u001b[0;34m()\u001b[0m\n\u001b[1;32m      5\u001b[0m \u001b[0;32mdel\u001b[0m \u001b[0mthisset\u001b[0m\u001b[0;34m\u001b[0m\u001b[0;34m\u001b[0m\u001b[0m\n\u001b[1;32m      6\u001b[0m \u001b[0;34m\u001b[0m\u001b[0m\n\u001b[0;32m----> 7\u001b[0;31m \u001b[0mprint\u001b[0m\u001b[0;34m(\u001b[0m\u001b[0mthisset\u001b[0m\u001b[0;34m)\u001b[0m\u001b[0;34m\u001b[0m\u001b[0;34m\u001b[0m\u001b[0m\n\u001b[0m",
            "\u001b[0;31mNameError\u001b[0m: name 'thisset' is not defined"
          ]
        }
      ]
    },
    {
      "cell_type": "code",
      "source": [
        "#Loop through the set, and print the values:\n",
        "\n",
        "thisset = {\"apple\", \"banana\", \"cherry\"}\n",
        "\n",
        "for x in thisset:\n",
        "  print(x)"
      ],
      "metadata": {
        "colab": {
          "base_uri": "https://localhost:8080/"
        },
        "id": "dnQM2Djxhk1N",
        "outputId": "b5035feb-2ab2-4593-9cbe-913f98190738"
      },
      "execution_count": 90,
      "outputs": [
        {
          "output_type": "stream",
          "name": "stdout",
          "text": [
            "banana\n",
            "cherry\n",
            "apple\n"
          ]
        }
      ]
    },
    {
      "cell_type": "code",
      "source": [],
      "metadata": {
        "id": "OiM5bDTyht86"
      },
      "execution_count": null,
      "outputs": []
    },
    {
      "cell_type": "code",
      "source": [],
      "metadata": {
        "id": "mhBVRuVaidkO"
      },
      "execution_count": null,
      "outputs": []
    },
    {
      "cell_type": "markdown",
      "source": [
        "#Python Dictionaries\n",
        "Dictionaries are used to store data values in key:value pairs.\n",
        "\n",
        "A dictionary is a collection which is ordered*, changeable and do not allow duplicates.\n",
        "\n",
        "Methods : ![image.png](data:image/png;base64,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)\n",
        "\n"
      ],
      "metadata": {
        "id": "dWgEYfq8iehC"
      }
    },
    {
      "cell_type": "code",
      "source": [
        "#Create and print a dictionary:\n",
        "\n",
        "thisdict = {\n",
        "  \"brand\": \"Ford\",\n",
        "  \"model\": \"Mustang\",\n",
        "  \"year\": 1964\n",
        "}\n",
        "print(thisdict)"
      ],
      "metadata": {
        "colab": {
          "base_uri": "https://localhost:8080/"
        },
        "id": "yqfcEJk3iqAH",
        "outputId": "aac424b7-0354-4100-b1c4-c9283edb9e98"
      },
      "execution_count": 91,
      "outputs": [
        {
          "output_type": "stream",
          "name": "stdout",
          "text": [
            "{'brand': 'Ford', 'model': 'Mustang', 'year': 1964}\n"
          ]
        }
      ]
    },
    {
      "cell_type": "code",
      "source": [
        "#Get a list of the values:\n",
        "thisdict = {\n",
        "  \"brand\": \"Ford\",\n",
        "  \"model\": \"Mustang\",\n",
        "  \"year\": 1964\n",
        "}\n",
        "\n",
        "x = thisdict.values()\n",
        "\n",
        "print(x)\n"
      ],
      "metadata": {
        "colab": {
          "base_uri": "https://localhost:8080/"
        },
        "id": "dIHqGvDpirDm",
        "outputId": "8e072b3f-5627-4f40-a54e-b3f4188f06d8"
      },
      "execution_count": 92,
      "outputs": [
        {
          "output_type": "stream",
          "name": "stdout",
          "text": [
            "dict_values(['Ford', 'Mustang', 1964])\n"
          ]
        }
      ]
    },
    {
      "cell_type": "code",
      "source": [
        "#Update the \"year\" of the car by using the update() method:\n",
        "\n",
        "thisdict = {\n",
        "  \"brand\": \"Ford\",\n",
        "  \"model\": \"Mustang\",\n",
        "  \"year\": 1964\n",
        "}\n",
        "thisdict.update({\"year\": 2020})"
      ],
      "metadata": {
        "id": "NYQpjqk0i9Ez"
      },
      "execution_count": 93,
      "outputs": []
    },
    {
      "cell_type": "code",
      "source": [
        "#The pop() method removes the item with the specified key name:\n",
        "\n",
        "thisdict = {\n",
        "  \"brand\": \"Ford\",\n",
        "  \"model\": \"Mustang\",\n",
        "  \"year\": 1964\n",
        "}\n",
        "thisdict.pop(\"model\")\n",
        "print(thisdict)"
      ],
      "metadata": {
        "colab": {
          "base_uri": "https://localhost:8080/"
        },
        "id": "e2tmnIRkjDoU",
        "outputId": "831cb085-6358-4268-ecb8-a2e890581889"
      },
      "execution_count": 94,
      "outputs": [
        {
          "output_type": "stream",
          "name": "stdout",
          "text": [
            "{'brand': 'Ford', 'year': 1964}\n"
          ]
        }
      ]
    },
    {
      "cell_type": "code",
      "source": [
        "#The popitem() method removes the last inserted item (in versions before 3.7, a random item is removed instead):\n",
        "\n",
        "thisdict = {\n",
        "  \"brand\": \"Ford\",\n",
        "  \"model\": \"Mustang\",\n",
        "  \"year\": 1964\n",
        "}\n",
        "thisdict.popitem()\n",
        "print(thisdict)"
      ],
      "metadata": {
        "colab": {
          "base_uri": "https://localhost:8080/"
        },
        "id": "XHt7kc_0jNcJ",
        "outputId": "04573426-d605-4998-fafa-208a7f2f7abe"
      },
      "execution_count": 95,
      "outputs": [
        {
          "output_type": "stream",
          "name": "stdout",
          "text": [
            "{'brand': 'Ford', 'model': 'Mustang'}\n"
          ]
        }
      ]
    },
    {
      "cell_type": "code",
      "source": [
        "#Print all key names in the dictionary, one by one:\n",
        "\n",
        "for x in thisdict:\n",
        "  print(x)\n"
      ],
      "metadata": {
        "colab": {
          "base_uri": "https://localhost:8080/"
        },
        "id": "t0UnX8wmjQcz",
        "outputId": "91461347-433f-4aaa-dee6-0f2695b5fb48"
      },
      "execution_count": 96,
      "outputs": [
        {
          "output_type": "stream",
          "name": "stdout",
          "text": [
            "brand\n",
            "model\n"
          ]
        }
      ]
    },
    {
      "cell_type": "code",
      "source": [
        "#Create a dictionary that contain three dictionaries:\n",
        "\n",
        "\n",
        "myfamily = {\n",
        "  \"child1\" : {\n",
        "    \"name\" : \"Emil\",\n",
        "    \"year\" : 2004\n",
        "  },\n",
        "  \"child2\" : {\n",
        "    \"name\" : \"Tobias\",\n",
        "    \"year\" : 2007\n",
        "  },\n",
        "  \"child3\" : {\n",
        "    \"name\" : \"Linus\",\n",
        "    \"year\" : 2011\n",
        "  }\n",
        "}\n",
        "\n",
        "print(myfamily)"
      ],
      "metadata": {
        "colab": {
          "base_uri": "https://localhost:8080/"
        },
        "id": "TMI3d9ttjW9w",
        "outputId": "c14b19f8-de66-4a33-9ae0-94d431d44bf7"
      },
      "execution_count": 97,
      "outputs": [
        {
          "output_type": "stream",
          "name": "stdout",
          "text": [
            "{'child1': {'name': 'Emil', 'year': 2004}, 'child2': {'name': 'Tobias', 'year': 2007}, 'child3': {'name': 'Linus', 'year': 2011}}\n"
          ]
        }
      ]
    },
    {
      "cell_type": "code",
      "source": [
        "#Print the name of child 2:\n",
        "myfamily = {\n",
        "  \"child1\" : {\n",
        "    \"name\" : \"Emil\",\n",
        "    \"year\" : 2004\n",
        "  },\n",
        "  \"child2\" : {\n",
        "    \"name\" : \"Tobias\",\n",
        "    \"year\" : 2007\n",
        "  },\n",
        "  \"child3\" : {\n",
        "    \"name\" : \"Linus\",\n",
        "    \"year\" : 2011\n",
        "  }\n",
        "}\n",
        "\n",
        "print(myfamily[\"child2\"][\"name\"])\n"
      ],
      "metadata": {
        "id": "L0ehLJXmj1NP"
      },
      "execution_count": null,
      "outputs": []
    }
  ]
}