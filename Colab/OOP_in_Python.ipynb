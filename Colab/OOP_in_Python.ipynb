{
  "cells": [
    {
      "cell_type": "code",
      "execution_count": null,
      "metadata": {
        "id": "6PX5Ug_lW5ja"
      },
      "outputs": [],
      "source": [
        "# class , object , class instance, argument , parameter.\n",
        "# class is a blueprint for creating objects.\n",
        "# object is an instance of a class.\n",
        "# class instance is a object created from a class.\n",
        "# argument is a value passed to a function."
      ]
    },
    {
      "cell_type": "code",
      "execution_count": null,
      "metadata": {},
      "outputs": [],
      "source": []
    }
  ],
  "metadata": {
    "colab": {
      "provenance": []
    },
    "kernelspec": {
      "display_name": "Python 3",
      "name": "python3"
    },
    "language_info": {
      "name": "python"
    }
  },
  "nbformat": 4,
  "nbformat_minor": 0
}
