{
  "cells": [
    {
      "cell_type": "code",
      "execution_count": 1,
      "metadata": {
        "id": "6PX5Ug_lW5ja"
      },
      "outputs": [
        {
          "name": "stdout",
          "output_type": "stream",
          "text": [
            "John is barking.\n",
            "John is barking.\n",
            "John is eating meat.\n",
            "John is sleeping.\n",
            "John is sleeping.\n",
            "John\n",
            "John\n",
            "3\n",
            "5\n",
            "<__main__.Dog object at 0x0000020D9D425BB0>\n",
            "<__main__.Dog object at 0x0000020D9E7F7FE0>\n",
            "<class '__main__.Dog'>\n",
            "<class '__main__.Dog'>\n",
            "True\n",
            "True\n",
            "True\n",
            "True\n",
            "False\n",
            "False\n",
            "False\n",
            "False\n",
            "False\n",
            "False\n",
            "False\n",
            "False\n",
            "False\n",
            "False\n"
          ]
        }
      ],
      "source": [
        "# class , object , class instance, argument , parameter.\n",
        "# class is a blueprint for creating objects.\n",
        "# object is an instance of a class.\n",
        "# class instance is a object created from a class.\n",
        "# argument is a value passed to a function.\n",
        "# parameter is a variable used to define a particular value during a function definition.\n",
        "\n",
        "class Dog:\n",
        "    def __init__(self, name, age): # __init__ is a constructor method.\n",
        "        self.name = name\n",
        "        self.age = age\n",
        "\n",
        "    def bark(self):\n",
        "        print(f'{self.name} is barking.')\n",
        "\n",
        "    def eat(self, food):\n",
        "        print(f'{self.name} is eating {food}.')\n",
        "\n",
        "    def sleep(self):\n",
        "        print(f'{self.name} is sleeping.')\n",
        "\n",
        "\n",
        "dog1 = Dog('John', 3)\n",
        "dog2 = Dog('John', 5)       \n",
        "dog1.bark() \n",
        "dog2.bark()\n",
        "dog2.eat('meat')\n",
        "dog1.sleep()\n",
        "dog2.sleep()\n",
        "print(dog1.name)\n",
        "print(dog2.name)\n",
        "print(dog1.age)\n",
        "print(dog2.age)\n",
        "print(dog1)\n",
        "print(dog2)\n",
        "print(type(dog1))\n",
        "print(type(dog2))\n",
        "print(isinstance(dog1, Dog))\n",
        "print(isinstance(dog2, Dog))\n",
        "print(isinstance(dog1, object))\n",
        "print(isinstance(dog2, object))\n",
        "print(isinstance(dog1, int))\n",
        "print(isinstance(dog2, int))\n",
        "\n",
        "print(isinstance(dog1, str))\n",
        "print(isinstance(dog2, str))\n",
        "print(isinstance(dog1, float))\n",
        "print(isinstance(dog2, float))\n",
        "print(isinstance(dog1, list))\n",
        "print(isinstance(dog2, list))\n",
        "print(isinstance(dog1, tuple))\n",
        "print(isinstance(dog2, tuple))\n"
      ]
    },
    {
      "cell_type": "code",
      "execution_count": null,
      "metadata": {},
      "outputs": [],
      "source": []
    }
  ],
  "metadata": {
    "colab": {
      "provenance": []
    },
    "kernelspec": {
      "display_name": "Python 3",
      "name": "python3"
    },
    "language_info": {
      "codemirror_mode": {
        "name": "ipython",
        "version": 3
      },
      "file_extension": ".py",
      "mimetype": "text/x-python",
      "name": "python",
      "nbconvert_exporter": "python",
      "pygments_lexer": "ipython3",
      "version": "3.12.2"
    }
  },
  "nbformat": 4,
  "nbformat_minor": 0
}
