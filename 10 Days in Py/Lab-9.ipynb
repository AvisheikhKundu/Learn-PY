{
  "nbformat": 4,
  "nbformat_minor": 0,
  "metadata": {
    "colab": {
      "provenance": []
    },
    "kernelspec": {
      "name": "python3",
      "display_name": "Python 3"
    },
    "language_info": {
      "name": "python"
    }
  },
  "cells": [
    {
      "cell_type": "markdown",
      "source": [
        "**Exception Handling**"
      ],
      "metadata": {
        "id": "vxINJJYHaKKS"
      }
    },
    {
      "cell_type": "code",
      "execution_count": null,
      "metadata": {
        "colab": {
          "base_uri": "https://localhost:8080/"
        },
        "id": "bBkao_gmmWVw",
        "outputId": "20a23591-b121-473a-e071-e9f74f538e24"
      },
      "outputs": [
        {
          "output_type": "stream",
          "name": "stdout",
          "text": [
            "Error: cannot add an int and a str\n"
          ]
        }
      ],
      "source": [
        "x = 5\n",
        "y = \"hello\"\n",
        "try:\n",
        "\tz = x + y\n",
        "except:\n",
        "\tprint(\"Error: cannot add an int and a str\")\n"
      ]
    },
    {
      "cell_type": "code",
      "source": [
        "x = 5\n",
        "y = \"hello\"\n",
        "try:\n",
        "\tz = x + y\n",
        "except TypeError:\n",
        "\tprint(\"Error: cannot add an int and a str\")\n"
      ],
      "metadata": {
        "colab": {
          "base_uri": "https://localhost:8080/"
        },
        "id": "piWOWmFanOp8",
        "outputId": "10e39d42-eaaa-4202-a112-975d7766e629"
      },
      "execution_count": null,
      "outputs": [
        {
          "output_type": "stream",
          "name": "stdout",
          "text": [
            "Error: cannot add an int and a str\n"
          ]
        }
      ]
    },
    {
      "cell_type": "code",
      "source": [
        "a = [1, 2, 3]\n",
        "try:\n",
        "\tprint(\"Second element = %d\" %(a[1]))\n",
        "\n",
        "\tprint(\"Fourth element = %d\" %(a[3]))\n",
        "\n",
        "except:\n",
        "\tprint(\"An error occurred\")\n"
      ],
      "metadata": {
        "colab": {
          "base_uri": "https://localhost:8080/"
        },
        "id": "gx-rhmUDndVH",
        "outputId": "c78ed57d-80bf-4c67-891b-454372a33656"
      },
      "execution_count": null,
      "outputs": [
        {
          "output_type": "stream",
          "name": "stdout",
          "text": [
            "Second element = 2\n",
            "An error occurred\n"
          ]
        }
      ]
    },
    {
      "cell_type": "code",
      "source": [
        "def Addition(a , b):\n",
        "\ttry:\n",
        "\t\tc = ((a+b) / (a-b))\n",
        "\texcept:\n",
        "\t\tprint(\"a/b result in 0\")\n",
        "\telse:\n",
        "\t\tprint(c)\n",
        "\tfinally:\n",
        "\t\tprint('This is always executed')\n",
        "\n",
        "Addition(2, 3)\n",
        "Addition(3, 3)"
      ],
      "metadata": {
        "colab": {
          "base_uri": "https://localhost:8080/"
        },
        "id": "wKWkngolnmCN",
        "outputId": "10e2ce63-8817-494c-e37e-42b997f43499"
      },
      "execution_count": null,
      "outputs": [
        {
          "output_type": "stream",
          "name": "stdout",
          "text": [
            "-5.0\n",
            "This is always executed\n",
            "a/b result in 0\n",
            "This is always executed\n"
          ]
        }
      ]
    },
    {
      "cell_type": "code",
      "source": [
        "try:\n",
        "\tk = 5/0\n",
        "\tprint(k)\n",
        "\n",
        "except ZeroDivisionError:\n",
        "\tprint(\"Can't divide by zero\")\n",
        "\n",
        "finally:\n",
        "\tprint('This is always executed')\n"
      ],
      "metadata": {
        "colab": {
          "base_uri": "https://localhost:8080/"
        },
        "id": "TtdzXwOFn_eN",
        "outputId": "569b743c-ebe5-4ea6-b6c2-4fd1ecb51a54"
      },
      "execution_count": null,
      "outputs": [
        {
          "output_type": "stream",
          "name": "stdout",
          "text": [
            "Can't divide by zero\n",
            "This is always executed\n"
          ]
        }
      ]
    }
  ]
}