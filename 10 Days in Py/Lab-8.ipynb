{
  "cells": [
    {
      "cell_type": "markdown",
      "metadata": {
        "id": "MZ7xVL-QX9GZ"
      },
      "source": [
        "**Inheritance**"
      ]
    },
    {
      "cell_type": "code",
      "execution_count": null,
      "metadata": {
        "id": "Z5pZ5NvNYAu-"
      },
      "outputs": [],
      "source": [
        "class Student:\n",
        "  def studyhour(self):\n",
        "    print(\"8hours\")\n",
        "  def tuitionfees(self):\n",
        "    print(\"8lac\")"
      ]
    },
    {
      "cell_type": "code",
      "execution_count": null,
      "metadata": {
        "id": "77WC3hKdbQa6"
      },
      "outputs": [],
      "source": [
        "class Zoy(Student):\n",
        "  def gamingtime(self):\n",
        "    print(\"10 hour\")"
      ]
    },
    {
      "cell_type": "code",
      "execution_count": null,
      "metadata": {
        "colab": {
          "base_uri": "https://localhost:8080/"
        },
        "id": "EqyBZUdMbaS7",
        "outputId": "92da1bf3-911a-49fb-f320-fe35e8204462"
      },
      "outputs": [
        {
          "name": "stdout",
          "output_type": "stream",
          "text": [
            "8hours\n",
            "8lac\n",
            "10 hour\n"
          ]
        }
      ],
      "source": [
        "z = Zoy()\n",
        "z.studyhour()\n",
        "z.tuitionfees()\n",
        "z.gamingtime()"
      ]
    },
    {
      "cell_type": "code",
      "execution_count": null,
      "metadata": {
        "id": "MyXsR4TlTTDO"
      },
      "outputs": [],
      "source": []
    },
    {
      "cell_type": "code",
      "execution_count": null,
      "metadata": {
        "id": "MMNMUWjreq01"
      },
      "outputs": [],
      "source": [
        "class Student:\n",
        "  def __init__(self, name, id):\n",
        "    self.name = name\n",
        "    self.id = id\n",
        "\n",
        "  def details(self):\n",
        "    print(\"Name: \", self.name, \"ID: \", self.id)"
      ]
    },
    {
      "cell_type": "code",
      "execution_count": null,
      "metadata": {
        "id": "LisjInp0aIaP"
      },
      "outputs": [],
      "source": [
        "class Tanim(Student):\n",
        "  def __init__(self, name, id, cgpa):\n",
        "    Student.__init__(self, name, id)\n",
        "    self.cgpa = cgpa\n",
        "    #super().__init__(name, id)\n",
        "\n",
        "  def feedback(self):\n",
        "    print(\"Tanim is Co-CR\")"
      ]
    },
    {
      "cell_type": "code",
      "execution_count": null,
      "metadata": {
        "colab": {
          "base_uri": "https://localhost:8080/"
        },
        "id": "Qxu-hu0BaIcw",
        "outputId": "c6a7ab10-c310-4734-db34-001edfc7884c"
      },
      "outputs": [
        {
          "name": "stdout",
          "output_type": "stream",
          "text": [
            "Name:  Tanim ID:  1234\n",
            "Tanim is Co-CR\n"
          ]
        }
      ],
      "source": [
        "t = Tanim(\"Tanim\", 1234, 3.7)\n",
        "t.details()\n",
        "t.feedback()"
      ]
    },
    {
      "cell_type": "code",
      "execution_count": null,
      "metadata": {
        "id": "bBHmecwLaJW-"
      },
      "outputs": [],
      "source": []
    },
    {
      "cell_type": "code",
      "execution_count": null,
      "metadata": {
        "colab": {
          "base_uri": "https://localhost:8080/"
        },
        "id": "ZImlAgtKvsUW",
        "outputId": "a89a7cec-e77f-4c0d-8ba2-b52415a282f9"
      },
      "outputs": [
        {
          "name": "stdout",
          "output_type": "stream",
          "text": [
            "Name:  Jannat ID:  1234\n"
          ]
        }
      ],
      "source": [
        "class Stu1(Student):\n",
        "  def __init__(self, name, id):\n",
        "    Student.__init__(self, name, id)\n",
        "\n",
        "\n",
        "z = Stu1(\"Jannat\", 1234)\n",
        "z.details()"
      ]
    },
    {
      "cell_type": "code",
      "execution_count": null,
      "metadata": {
        "colab": {
          "base_uri": "https://localhost:8080/"
        },
        "id": "1Zhdr4td5Osb",
        "outputId": "df250a2a-2fee-42ce-d7d9-0488466bb069"
      },
      "outputs": [
        {
          "name": "stdout",
          "output_type": "stream",
          "text": [
            "Name:  Zara ID:  1234\n"
          ]
        }
      ],
      "source": [
        "class Stu1(Student):\n",
        "  def __init__(self, name, id):\n",
        "    super().__init__(name, id)\n",
        "\n",
        "z = Stu1(\"Zara\", 1234)\n",
        "z.details()"
      ]
    },
    {
      "cell_type": "code",
      "execution_count": null,
      "metadata": {
        "id": "COm3ft4PTX5o"
      },
      "outputs": [],
      "source": []
    },
    {
      "cell_type": "code",
      "execution_count": null,
      "metadata": {
        "colab": {
          "background_save": true
        },
        "id": "-U8qY7Je51gq"
      },
      "outputs": [],
      "source": [
        "class Student:\n",
        "  tuition_fees = 800000\n",
        "  def __init__(self, name, id, cgpa):\n",
        "    self.name = name\n",
        "    self.id = id\n",
        "    self.cgpa = cgpa\n",
        "\n",
        "  def calculateFees(self):\n",
        "    if self.cgpa>3.5 and self.cgpa<3.8:\n",
        "      print(self.tuition_fees-(self.tuition_fees*.3))\n",
        "    elif self.cgpa>3.8:\n",
        "      print(self.tuition_fees-(self.tuition_fees*.4))\n",
        "\n",
        "  def details(self):\n",
        "    print(\"Name:\", self.name, \"ID:\", self.id)"
      ]
    },
    {
      "cell_type": "code",
      "execution_count": null,
      "metadata": {
        "colab": {
          "base_uri": "https://localhost:8080/"
        },
        "id": "vI0dNPWVJOkw",
        "outputId": "feed02ed-4ada-4e31-f127-6171103d2a3d"
      },
      "outputs": [
        {
          "name": "stdout",
          "output_type": "stream",
          "text": [
            "Name: Anik ID: 1234\n",
            "560000.0\n",
            "Name: Shakil ID: 5678\n",
            "480000.0\n"
          ]
        }
      ],
      "source": [
        "class Anik(Student):\n",
        "  def __init__(self, name, id, cgpa):\n",
        "    super().__init__(name, id, cgpa)\n",
        "\n",
        "n = Anik(\"Anik\", 1234, 3.6)\n",
        "n.details()\n",
        "n.calculateFees()\n",
        "\n",
        "class Shakil(Student):\n",
        "  def __init__(self, name, id, cgpa):\n",
        "    super().__init__(name, id, cgpa)\n",
        "\n",
        "j = Shakil(\"Shakil\", 5678, 3.9)\n",
        "j.details()\n",
        "j.calculateFees()"
      ]
    },
    {
      "cell_type": "code",
      "execution_count": null,
      "metadata": {
        "id": "MJ0Z_KuaD1Ua"
      },
      "outputs": [],
      "source": []
    },
    {
      "cell_type": "code",
      "source": [
        "class Employee:\n",
        "  bonus = 0\n",
        "  def __init__(self, id, salary):\n",
        "    self.id = id\n",
        "    self.salary = salary\n",
        "    self.bonus = salary*0.1\n",
        "\n",
        "  def calculatesalarywithBonus(self):\n",
        "    total = self.salary+self.bonus\n",
        "    print(\"Salary with Bonus: \", total)"
      ],
      "metadata": {
        "id": "DQU5SGLUeCw_"
      },
      "execution_count": null,
      "outputs": []
    },
    {
      "cell_type": "code",
      "source": [
        "class Intern(Employee):\n",
        "  pass"
      ],
      "metadata": {
        "id": "h_Izla_4eCzY"
      },
      "execution_count": null,
      "outputs": []
    },
    {
      "cell_type": "code",
      "source": [
        "class FullTime(Employee):\n",
        "  homeallowance = 0\n",
        "  transportallowance = 0\n",
        "  def __init__(self, id, salary):\n",
        "    super().__init__(id, salary)\n",
        "    self.homeallowance = self.salary*0.2\n",
        "    self.transportallowance = self.salary*0.1\n",
        "\n",
        "  def calculatesalarywithAllowance(self):\n",
        "    bonus_total = self.salary+self.homeallowance+self.transportallowance\n",
        "    print(\"Salary with Allowance: \", bonus_total)\n"
      ],
      "metadata": {
        "id": "zeNc_Qv5exlh"
      },
      "execution_count": null,
      "outputs": []
    },
    {
      "cell_type": "code",
      "source": [
        "class Junior(FullTime):\n",
        "  pass"
      ],
      "metadata": {
        "id": "lFUDfvz5e6L9"
      },
      "execution_count": null,
      "outputs": []
    },
    {
      "cell_type": "code",
      "source": [
        "class Senior(FullTime):\n",
        "  increment = 0\n",
        "  def __init__(self, id, salary):\n",
        "    super().__init__(id, salary)\n",
        "    self.increment = self.salary*0.02\n",
        "\n",
        "  def calculateSalarywithIncrement(self):\n",
        "    incremented_total = self.salary+self.increment\n",
        "    print(\"Salary with Increment: \", incremented_total)"
      ],
      "metadata": {
        "id": "5wiPwKGJe6Of"
      },
      "execution_count": null,
      "outputs": []
    },
    {
      "cell_type": "code",
      "source": [
        "i = Intern(1234, 7000)\n",
        "i.calculatesalarywithBonus()"
      ],
      "metadata": {
        "colab": {
          "base_uri": "https://localhost:8080/"
        },
        "id": "iOZl09acexon",
        "outputId": "3e87da82-746f-42a4-d18a-6778873b0bf3"
      },
      "execution_count": null,
      "outputs": [
        {
          "output_type": "stream",
          "name": "stdout",
          "text": [
            "Salary with Bonus:  7700.0\n"
          ]
        }
      ]
    },
    {
      "cell_type": "code",
      "source": [
        "j = Junior(3458, 50000)\n",
        "j.calculatesalarywithBonus()\n",
        "j.calculatesalarywithAllowance()"
      ],
      "metadata": {
        "colab": {
          "base_uri": "https://localhost:8080/"
        },
        "id": "ZSMVqI8keC2P",
        "outputId": "85bec723-eb62-40e0-b109-80495500bf64"
      },
      "execution_count": null,
      "outputs": [
        {
          "output_type": "stream",
          "name": "stdout",
          "text": [
            "Salary with Bonus:  55000.0\n",
            "Salary with Allowance:  65000.0\n"
          ]
        }
      ]
    },
    {
      "cell_type": "code",
      "source": [
        "s = Senior(9999, 1200000)\n",
        "s.calculatesalarywithBonus()\n",
        "s.calculatesalarywithAllowance()\n",
        "s.calculateSalarywithIncrement()"
      ],
      "metadata": {
        "colab": {
          "base_uri": "https://localhost:8080/"
        },
        "id": "WTGBTBPGeC5H",
        "outputId": "9afc5f96-af72-4beb-a6a6-3c9f80684355"
      },
      "execution_count": null,
      "outputs": [
        {
          "output_type": "stream",
          "name": "stdout",
          "text": [
            "Salary with Bonus:  1320000.0\n",
            "Salary with Allowance:  1560000.0\n",
            "Salary with Increment:  1224000.0\n"
          ]
        }
      ]
    },
    {
      "cell_type": "code",
      "source": [],
      "metadata": {
        "id": "RoMG52AdieUm"
      },
      "execution_count": null,
      "outputs": []
    },
    {
      "cell_type": "code",
      "source": [],
      "metadata": {
        "id": "tJ6QfTTsieW0"
      },
      "execution_count": null,
      "outputs": []
    },
    {
      "cell_type": "code",
      "execution_count": null,
      "metadata": {
        "id": "Vft3eCdGD1W7"
      },
      "outputs": [],
      "source": [
        "class Employee:\n",
        "  bonus = 0\n",
        "  def __init__(self, id, salary):\n",
        "    self.id = id\n",
        "    self.salary = salary\n",
        "    self.bonus = self.salary*0.1\n",
        "\n",
        "  def calculateSalarywithBonus(self):\n",
        "    bonus = self.salary+self.bonus\n",
        "    print(\"Salary with Bonus:\", bonus)"
      ]
    },
    {
      "cell_type": "code",
      "execution_count": null,
      "metadata": {
        "id": "c8RPQ3DgD1Zj"
      },
      "outputs": [],
      "source": [
        "class Intern(Employee):\n",
        "  pass"
      ]
    },
    {
      "cell_type": "code",
      "execution_count": null,
      "metadata": {
        "id": "EITWpveF48gZ"
      },
      "outputs": [],
      "source": [
        "class FullTime(Employee):\n",
        "  houseallowance = 0\n",
        "  transportallowance = 0\n",
        "  def __init__(self, id, salary):\n",
        "    super().__init__(id, salary)\n",
        "    self.houseallowance = self.salary*0.2\n",
        "    self.tansportallowance = self.salary*0.1\n",
        "\n",
        "\n",
        "  def calculateSalarywithAllowance(self):\n",
        "    totalsalary = self.salary+self.houseallowance+self.tansportallowance\n",
        "    print(\"Salary with Allowance: \", totalsalary)"
      ]
    },
    {
      "cell_type": "code",
      "execution_count": null,
      "metadata": {
        "id": "Bd6iJrrp48i1"
      },
      "outputs": [],
      "source": [
        "class Senior(FullTime):\n",
        "  increment = 0\n",
        "  def __init__(self, id, salary):\n",
        "    super().__init__(id, salary)\n",
        "    self.increment = self.salary*0.2\n",
        "\n",
        "  def calculateSalarywithIncrement(self):\n",
        "    incrementedsalary = self.salary+self.increment\n",
        "    print(\"Salary with Increment: \", incrementedsalary)\n"
      ]
    },
    {
      "cell_type": "code",
      "execution_count": null,
      "metadata": {
        "id": "dRH7JL0gEgbM"
      },
      "outputs": [],
      "source": [
        "class Junior(FullTime):\n",
        "  pass"
      ]
    },
    {
      "cell_type": "code",
      "execution_count": null,
      "metadata": {
        "colab": {
          "base_uri": "https://localhost:8080/"
        },
        "id": "QAj49lRbEgdk",
        "outputId": "8dbf038b-39e4-4715-b08d-0bf3a3aaf143"
      },
      "outputs": [
        {
          "name": "stdout",
          "output_type": "stream",
          "text": [
            "Salary with Bonus: 7700.0\n"
          ]
        }
      ],
      "source": [
        "i = Intern(1234, 7000)\n",
        "i.calculateSalarywithBonus()"
      ]
    },
    {
      "cell_type": "code",
      "execution_count": null,
      "metadata": {
        "colab": {
          "base_uri": "https://localhost:8080/"
        },
        "id": "xW3u8GoOEgfe",
        "outputId": "89c7abc4-4767-47c4-a740-610c7c9df3f0"
      },
      "outputs": [
        {
          "name": "stdout",
          "output_type": "stream",
          "text": [
            "Salary with Bonus: 66000.0\n",
            "Salary with Allowance:  78000.0\n"
          ]
        }
      ],
      "source": [
        "j = Junior(5678, 60000)\n",
        "j.calculateSalarywithBonus()\n",
        "j.calculateSalarywithAllowance()"
      ]
    },
    {
      "cell_type": "code",
      "execution_count": null,
      "metadata": {
        "colab": {
          "base_uri": "https://localhost:8080/"
        },
        "id": "WSihSscaEghL",
        "outputId": "f8deb081-42f7-4141-a747-a8e890ec65bb"
      },
      "outputs": [
        {
          "name": "stdout",
          "output_type": "stream",
          "text": [
            "Salary with Bonus: 132000.0\n",
            "Salary with Allowance:  156000.0\n",
            "Salary with Increment:  144000.0\n"
          ]
        }
      ],
      "source": [
        "s = Senior(5757, 120000)\n",
        "s.calculateSalarywithBonus()\n",
        "s.calculateSalarywithAllowance()\n",
        "s.calculateSalarywithIncrement()"
      ]
    },
    {
      "cell_type": "markdown",
      "metadata": {
        "id": "aduBvh5zUYyi"
      },
      "source": [
        "**Polymorphism**"
      ]
    },
    {
      "cell_type": "code",
      "execution_count": null,
      "metadata": {
        "colab": {
          "base_uri": "https://localhost:8080/"
        },
        "id": "mcOFBdNgQEVK",
        "outputId": "092fe27d-4ca6-42b9-a1d6-dbaebe30c751"
      },
      "outputs": [
        {
          "name": "stdout",
          "output_type": "stream",
          "text": [
            "Plane is flying!\n",
            "Vehicle is moving!\n"
          ]
        }
      ],
      "source": [
        "class Vehicle:\n",
        "  def activity(self):\n",
        "    print(\"Vehicle is moving!\")\n",
        "\n",
        "class Plane(Vehicle):\n",
        "  def activity(self):\n",
        "    print(\"Plane is flying!\")\n",
        "\n",
        "class Truck(Vehicle):\n",
        "  pass\n",
        "\n",
        "p = Plane()\n",
        "p.activity()\n",
        "t = Truck()\n",
        "t.activity()"
      ]
    },
    {
      "cell_type": "markdown",
      "metadata": {
        "id": "5sq0iGQzUemI"
      },
      "source": [
        "**Calculating the area of Circle, Triangle and Rectangle using same method. (Polymorphism)**"
      ]
    },
    {
      "cell_type": "code",
      "execution_count": null,
      "metadata": {
        "id": "nZYSoDLDQEXZ"
      },
      "outputs": [],
      "source": [
        "class Area:\n",
        "  def area(self):\n",
        "    pass"
      ]
    },
    {
      "cell_type": "code",
      "execution_count": null,
      "metadata": {
        "id": "1tfACRUCQEZG"
      },
      "outputs": [],
      "source": [
        "class Circle(Area):\n",
        "  def __init__(self, a):\n",
        "    self.a = a\n",
        "\n",
        "  def area(self):\n",
        "    print(\"Area of Circle:\", 3.14*self.a*self.a)"
      ]
    },
    {
      "cell_type": "code",
      "execution_count": null,
      "metadata": {
        "id": "m-SDDqbKQEbO"
      },
      "outputs": [],
      "source": [
        "class Triangle(Area):\n",
        "  def __init__(self, b, h):\n",
        "    self.b = b\n",
        "    self.h = h\n",
        "\n",
        "  def area(self):\n",
        "    print(\"Area of Triangle:\", 0.5*self.b*self.h)\n"
      ]
    },
    {
      "cell_type": "code",
      "execution_count": null,
      "metadata": {
        "id": "XBQKZmnjWbPf"
      },
      "outputs": [],
      "source": [
        "class Rectangle(Area):\n",
        "  def __init__(self, a, b):\n",
        "    self.a = a\n",
        "    self.b = b\n",
        "\n",
        "  def area(self):\n",
        "    print(\"Area of Rectangle:\", 0.5*self.a*self.b)"
      ]
    },
    {
      "cell_type": "code",
      "execution_count": null,
      "metadata": {
        "colab": {
          "base_uri": "https://localhost:8080/"
        },
        "id": "THr8YRm7WbWI",
        "outputId": "ee49a853-8fec-403c-ecd3-91477fe8bb7b"
      },
      "outputs": [
        {
          "name": "stdout",
          "output_type": "stream",
          "text": [
            "Area of Circle: 28.259999999999998\n",
            "Area of Triangle: 5.0\n",
            "Area of Rectangle: 20.0\n"
          ]
        }
      ],
      "source": [
        "cir = Circle(3)\n",
        "tri = Triangle(2,5)\n",
        "rec = Rectangle(5,8)\n",
        "\n",
        "cir.area()\n",
        "tri.area()\n",
        "rec.area()\n"
      ]
    }
  ],
  "metadata": {
    "colab": {
      "provenance": []
    },
    "kernelspec": {
      "display_name": "Python 3",
      "name": "python3"
    },
    "language_info": {
      "name": "python"
    }
  },
  "nbformat": 4,
  "nbformat_minor": 0
}