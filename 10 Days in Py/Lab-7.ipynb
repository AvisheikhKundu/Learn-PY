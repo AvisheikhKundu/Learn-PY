{
  "nbformat": 4,
  "nbformat_minor": 0,
  "metadata": {
    "colab": {
      "provenance": []
    },
    "kernelspec": {
      "name": "python3",
      "display_name": "Python 3"
    },
    "language_info": {
      "name": "python"
    }
  },
  "cells": [
    {
      "cell_type": "markdown",
      "source": [
        "**How to create a class in Python:**"
      ],
      "metadata": {
        "id": "BQORTqB6N4dh"
      }
    },
    {
      "cell_type": "code",
      "source": [
        "class Student:                #creating class\n",
        "  name = \"Mahira\"             #class attribute\n",
        "  id = 2345\n",
        "\n",
        "  def StudyHour(self):\n",
        "    print(\"Study Time: 8 hour\")\n",
        "\n",
        "\n",
        "st = Student()                #instance/object\n",
        "print(st.name)\n",
        "print(st.id)\n",
        "st.StudyHour()"
      ],
      "metadata": {
        "id": "D757ZaAvQgbx"
      },
      "execution_count": null,
      "outputs": []
    },
    {
      "cell_type": "code",
      "source": [],
      "metadata": {
        "id": "jjN9fGRsQgcp"
      },
      "execution_count": null,
      "outputs": []
    },
    {
      "cell_type": "code",
      "source": [
        "class Employee:                                                      #create a class\n",
        "  def __init__(self, name, id, salary):                              #constructor\n",
        "    self.name = name\n",
        "    self.id = id\n",
        "    self.salary = salary\n",
        "\n",
        "  def details(self):\n",
        "    print(\"Name:\", self.name, \"ID:\", self.id, \"Salary:\", self.salary)\n",
        "\n",
        "\n",
        "emp1 = Employee(\"Zarif\", 6798, 90000)                                #Creating object/instance of Employee class\n",
        "emp2 = Employee(\"Zafor\", 6799, 80000)\n",
        "emp1.details()\n",
        "emp2.details()"
      ],
      "metadata": {
        "id": "s7axPeXq0J1A"
      },
      "execution_count": null,
      "outputs": []
    },
    {
      "cell_type": "markdown",
      "source": [
        "**How to take input from user in a class:**"
      ],
      "metadata": {
        "id": "r7mPiWFfOU5l"
      }
    },
    {
      "cell_type": "code",
      "source": [
        "class Employee:\n",
        "  def __init__(self):\n",
        "    self.name = input()\n",
        "    self.id = input()\n",
        "    self.salary = input()\n",
        "\n",
        "  def details(self):\n",
        "    print(\"Name:\", self.name, \"ID:\", self.id, \"Salary:\", self.salary)"
      ],
      "metadata": {
        "id": "DUqOZZyY0J99"
      },
      "execution_count": null,
      "outputs": []
    },
    {
      "cell_type": "code",
      "source": [
        "emp1 = Employee()\n",
        "emp2 = Employee()\n",
        "print(emp1.id)\n",
        "emp1.details()\n",
        "emp2.details()"
      ],
      "metadata": {
        "colab": {
          "base_uri": "https://localhost:8080/"
        },
        "id": "wS8DGyXA0KAd",
        "outputId": "485e807e-6044-4e15-ab8d-13df802ebcd4"
      },
      "execution_count": null,
      "outputs": [
        {
          "output_type": "stream",
          "name": "stdout",
          "text": [
            "zafor\n",
            "1234\n",
            "100000000000\n",
            "nahid\n",
            "5757\n",
            "80000000000\n",
            "1234\n",
            "Name: zafor ID: 1234 Salary: 100000000000\n",
            "Name: nahid ID: 5757 Salary: 80000000000\n"
          ]
        }
      ]
    },
    {
      "cell_type": "markdown",
      "source": [
        "**Adding two numbers in a class taking input from user**"
      ],
      "metadata": {
        "id": "VOH3FeRwOf3q"
      }
    },
    {
      "cell_type": "code",
      "source": [
        "class Values:\n",
        "  def __init__(self):\n",
        "    self.num1 = int(input(\"Enter first number:\"))\n",
        "    self.num2 = int(input(\"Enter second number:\"))\n",
        "\n",
        "\n",
        "  def additions(self):\n",
        "    return self.num1+self.num2"
      ],
      "metadata": {
        "id": "HbcgDs-w8v4D"
      },
      "execution_count": null,
      "outputs": []
    },
    {
      "cell_type": "code",
      "source": [
        "val = Values()\n",
        "val.additions()"
      ],
      "metadata": {
        "colab": {
          "base_uri": "https://localhost:8080/"
        },
        "id": "OrTuqbdg9i0x",
        "outputId": "cea56f6a-66e7-4d48-8ccd-5febb124f5d3"
      },
      "execution_count": null,
      "outputs": [
        {
          "name": "stdout",
          "output_type": "stream",
          "text": [
            "Enter first number:5\n",
            "Enter second number:6\n"
          ]
        },
        {
          "output_type": "execute_result",
          "data": {
            "text/plain": [
              "11"
            ]
          },
          "metadata": {},
          "execution_count": 12
        }
      ]
    },
    {
      "cell_type": "markdown",
      "source": [
        "**Encapsulation**"
      ],
      "metadata": {
        "id": "MfzM5s8pLvnH"
      }
    },
    {
      "cell_type": "code",
      "source": [
        "class Employee:\n",
        "  def __init__(self, name, id, salary):\n",
        "    self.name = name\n",
        "    self.__id = id\n",
        "    self.__salary = salary\n",
        "\n",
        "\n",
        "  def details(self):\n",
        "    print(\"Name:\", self.name, \"ID:\", self.__id, \"Salary:\", self.__salary)\n",
        "\n",
        "  def set_salary(self, salary):\n",
        "    self.__salary = salary\n",
        "\n",
        "  def get_id(self):\n",
        "    return self.__id\n",
        "\n",
        "\n",
        "emp1 = Employee(\"Zarif\", 6798, 90000)\n",
        "emp2 = Employee(\"Zafor\", 6799, 80000)\n",
        "emp1.details()\n",
        "emp2.details()\n",
        "emp1.get_id()\n",
        "emp1.set_salary(1000000000)\n",
        "emp1.details()"
      ],
      "metadata": {
        "id": "4K1KySnR-VFD"
      },
      "execution_count": null,
      "outputs": []
    },
    {
      "cell_type": "code",
      "source": [],
      "metadata": {
        "id": "AlssKjs9-VMl"
      },
      "execution_count": null,
      "outputs": []
    },
    {
      "cell_type": "code",
      "source": [
        "class Account:\n",
        "  def __init__(self, name, id, password):\n",
        "    self.name = name\n",
        "    self.id = id\n",
        "    self.__password = password"
      ],
      "metadata": {
        "id": "1XyTmFi1-Im6"
      },
      "execution_count": null,
      "outputs": []
    },
    {
      "cell_type": "code",
      "source": [
        "a = Account()"
      ],
      "metadata": {
        "id": "wXDQsty5-IuI"
      },
      "execution_count": null,
      "outputs": []
    },
    {
      "cell_type": "code",
      "source": [],
      "metadata": {
        "id": "vgEmWmfZ-MF4"
      },
      "execution_count": null,
      "outputs": []
    },
    {
      "cell_type": "code",
      "source": [],
      "metadata": {
        "id": "qmBfV2W5-MII"
      },
      "execution_count": null,
      "outputs": []
    },
    {
      "cell_type": "code",
      "source": [],
      "metadata": {
        "id": "_b3oqITT-MMR"
      },
      "execution_count": null,
      "outputs": []
    },
    {
      "cell_type": "code",
      "source": [],
      "metadata": {
        "id": "HO6qSlyh-MOY"
      },
      "execution_count": null,
      "outputs": []
    },
    {
      "cell_type": "code",
      "source": [
        "class Account:\n",
        "  def __init__(self, name, id, password):\n",
        "    self.name = name\n",
        "    self.id = id\n",
        "    self.__password = password\n",
        "\n",
        "\n",
        "  def details(self):\n",
        "    print(\"Name:\", self.name, \"ID:\", self.id, \"Pasword:\", self.__password)\n",
        "\n",
        "  def set_password(self, password):\n",
        "    self.__password = password\n",
        "\n",
        "  def get_password(self):\n",
        "    return self.__password"
      ],
      "metadata": {
        "id": "G64aNORV-5z6"
      },
      "execution_count": null,
      "outputs": []
    },
    {
      "cell_type": "code",
      "source": [
        "acc = Account(\"Nahid\", 5757, \"brokenMoshiur\")\n",
        "acc.details()\n",
        "acc.name = \"Moshiur\"\n",
        "acc.id = 5403\n",
        "acc.details()\n",
        "acc.set_password(\"loverheroMoshiur\")\n",
        "acc.details()"
      ],
      "metadata": {
        "colab": {
          "base_uri": "https://localhost:8080/"
        },
        "id": "g08qoDXYsYaA",
        "outputId": "eea25a71-a15b-4861-90cd-c000ac6ae7ad"
      },
      "execution_count": null,
      "outputs": [
        {
          "output_type": "stream",
          "name": "stdout",
          "text": [
            "Name: Nahid ID: 5757 Pasword: brokenMoshiur\n",
            "Name: Moshiur ID: 5403 Pasword: brokenMoshiur\n",
            "Name: Moshiur ID: 5403 Pasword: loverheroMoshiur\n"
          ]
        }
      ]
    },
    {
      "cell_type": "code",
      "source": [],
      "metadata": {
        "id": "hkL03XGOKeWQ"
      },
      "execution_count": null,
      "outputs": []
    },
    {
      "cell_type": "code",
      "source": [
        "class Employee:\n",
        "  def __init__(self, name, id, salary):\n",
        "    self.__name = name\n",
        "    self.__id = id\n",
        "    self.__salary = salary\n",
        "\n",
        "  def details(self):\n",
        "    print(\"Name:\", self.__name, \"ID:\", self.__id, \"Salary:\", self.__salary)\n",
        "    self.__activity()\n",
        "\n",
        "  def set_Salary(self, id, salary):\n",
        "    self.__id = id\n",
        "    self.__salary = salary\n",
        "\n",
        "  def get_Salary(self):\n",
        "    return self.__salary\n",
        "\n",
        "  def __activity(self):\n",
        "    print(\"Best Employee!\")"
      ],
      "metadata": {
        "id": "3ozs1duAFdUe"
      },
      "execution_count": null,
      "outputs": []
    },
    {
      "cell_type": "code",
      "source": [
        "emp = Employee(\"Mehbub\", 2844, 60000)\n",
        "emp.details()\n",
        "\n",
        "emp.set_Salary(3235, 70000)\n",
        "emp.details()\n",
        "emp.get_Salary()"
      ],
      "metadata": {
        "colab": {
          "base_uri": "https://localhost:8080/"
        },
        "id": "Vp2Tqh7tJIPB",
        "outputId": "300270e0-a476-4c36-d30b-44f663bfbf58"
      },
      "execution_count": null,
      "outputs": [
        {
          "output_type": "stream",
          "name": "stdout",
          "text": [
            "Name: Mehbub ID: 2844 Salary: 60000\n",
            "Best Employee!\n",
            "Name: Mehbub ID: 3235 Salary: 70000\n",
            "Best Employee!\n"
          ]
        },
        {
          "output_type": "execute_result",
          "data": {
            "text/plain": [
              "70000"
            ]
          },
          "metadata": {},
          "execution_count": 4
        }
      ]
    },
    {
      "cell_type": "code",
      "source": [],
      "metadata": {
        "id": "nGHSR84nTEye"
      },
      "execution_count": null,
      "outputs": []
    },
    {
      "cell_type": "code",
      "source": [
        "class Student:\n",
        "  def __init__(self, name, id, bg):\n",
        "    self.name = name\n",
        "    self.id = id\n",
        "    self.__bg = bg\n",
        "\n",
        "  def set_bg(self, bg):\n",
        "    self.__bg = bg\n",
        "\n",
        "  def get_bg(self):\n",
        "    return self.__bg\n",
        "\n",
        "  def diplay(self):\n",
        "    print(\"Name:\",self.name, \"ID:\",self.id, \"Blood Group:\",self.__bg)\n",
        "    self.__feedback()\n",
        "\n",
        "  def __feedback(self):\n",
        "    print(\"Best Student\")"
      ],
      "metadata": {
        "id": "umXcPniATEzF"
      },
      "execution_count": null,
      "outputs": []
    },
    {
      "cell_type": "code",
      "source": [
        "st = Student(\"Mahi\", 2844, \"O+\")\n",
        "#print(st.bg)\n",
        "st.diplay()\n",
        "print(\"Old Blood Group:\", st.get_bg())\n",
        "st.set_bg(\"A+\")\n",
        "st.diplay()\n",
        "print(\"New Blood Group:\", st.get_bg())"
      ],
      "metadata": {
        "id": "A25Z8HrZTF-g"
      },
      "execution_count": null,
      "outputs": []
    }
  ]
}